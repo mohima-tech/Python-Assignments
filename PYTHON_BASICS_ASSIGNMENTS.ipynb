{
  "nbformat": 4,
  "nbformat_minor": 0,
  "metadata": {
    "colab": {
      "provenance": []
    },
    "kernelspec": {
      "name": "python3",
      "display_name": "Python 3"
    },
    "language_info": {
      "name": "python"
    }
  },
  "cells": [
    {
      "cell_type": "markdown",
      "source": [
        "# Theory Questions"
      ],
      "metadata": {
        "id": "nCTUUzWwLh6T"
      }
    },
    {
      "cell_type": "markdown",
      "source": [
        "1. What is Python, and why is it popular\n",
        "   -> Python is a high-level, interpreted programming language created by Guido van Rossum and first released in 1991. It's designed with a philosophy that emphasizes code readability and simplicity, making it accessible to both beginners and experienced programmers.\n",
        "\n",
        "   Python's popularity stems from several key factors:\n",
        "\n",
        "   Readability and Simplicity: Python's syntax closely resembles natural English, with minimal punctuation and clear structure. This makes code easier to write, read, and maintain compared to many other languages.\n",
        "\n",
        "   Versatility: Python excels across numerous domains including web development, data science, artificial intelligence, machine learning, automation, scientific computing, and more.\n",
        "\n",
        "   Extensive Libraries and Frameworks: Python has a vast ecosystem of third-party packages available through PyPI (Python Package Index). Popular libraries like NumPy for numerical computing, pandas for data analysis provide powerful tools right out of the box.\n",
        "\n",
        "   Strong Community: Python has one of the largest and most active programming communities, which contributes to continuous development, extensive documentation, tutorials, and support resources.\n",
        "\n",
        "   Cross-Platform Compatibility: Python runs on virtually any operating system, making it highly portable.\n",
        "   Industry Adoption: Major companies like Google, Netflix, Instagram, Spotify, and Dropbox use Python extensively, which has increased its credibility and job market demand.\n"
      ],
      "metadata": {
        "id": "51B5eIqaMDfi"
      }
    },
    {
      "cell_type": "markdown",
      "source": [
        "2.  What is an interpreter in Python?\n",
        "    -> An interpreter in Python is a program that reads and executes Python code directly, line by line, without needing to compile the entire program into machine code beforehand. This is fundamentally different from compiled languages like C++ or Java.\n",
        "\n",
        "    PyPy: A faster interpreter with just-in-time compilation\n"
      ],
      "metadata": {
        "id": "UP1EQ41GSERM"
      }
    },
    {
      "cell_type": "markdown",
      "source": [
        "3. What are pre-defined keywords in Python?\n",
        "   -> Python has a set of reserved words called keywords that have special meanings and cannot be used as variable names, function names, or identifiers. These keywords form the core syntax of the language.\n",
        "\n",
        "   e.g. Control Flow : if, else, elif, while, for, break, continue, pass\n"
      ],
      "metadata": {
        "id": "fZCxzgo8MCLS"
      }
    },
    {
      "cell_type": "markdown",
      "source": [
        "4. Can keywords be used as variable names?\n",
        "   -> No, Keywords can't be used as a variable names. Variables can be termed as a, b,....n but not something from keywords set.\n"
      ],
      "metadata": {
        "id": "DR9t4uO6VA3L"
      }
    },
    {
      "cell_type": "markdown",
      "source": [
        "5. What is mutability in Python?\n",
        "   -> Mutability simply means that the objects present in a data structure can be modified.\n",
        "\n",
        "   e.g. lists, dictionaries are mutable"
      ],
      "metadata": {
        "id": "1PokqhJ_VYWy"
      }
    },
    {
      "cell_type": "markdown",
      "source": [
        "6. Why are lists mutable, but tuples are immutable?\n",
        "   -> Lists are designed for dynamic operations—adding, removing, or changing elements. Their mutability makes them:\n",
        "   a. Efficient for updates (e.g., appending elements in loops)\n",
        "   b. Suitable for use cases like data storage, queues, dynamic collections, etc.\n",
        "\n",
        "   e.g. my_list = [1, 2, 3]\n",
        "        my_list[0] = 100\n",
        "        print(my_list)\n",
        "        -> 100, 2, 3- Allowed\n",
        "\n",
        "Tuples are designed to be fixed collections of items. Their immutability offers:\n",
        "\n",
        "a. Predictability: Useful for data that shouldn't change (e.g., coordinates, configuration data)\n",
        "\n",
        "b. Hashability: Because they're immutable, tuples can be used as keys in dictionaries or elements in sets.\n",
        "\n",
        "c. Performance: Tuples are slightly faster and use less memory than lists.\n",
        "\n",
        "e.g. my_tuple = (1, 2, 3)\n",
        "     \n",
        "     my_tuple[0] = 100 - Not allowed"
      ],
      "metadata": {
        "id": "hTkHHpI6V6w7"
      }
    },
    {
      "cell_type": "markdown",
      "source": [
        "7. What is the difference between “==” and “is” operators in Python?\n",
        "###   ->  \"==\" (Equality Operator)\n",
        "       a. Checks if values are equal (i.e. contents are the same)\n",
        "       b. Compares the data stored in two variables.\n",
        "       e.g. age = 21\n",
        "            if age = 21:\n",
        "            print(\"Eligible\") - True because content matches the condition.\n",
        "\n",
        "###       is (Identity Operator)\n",
        "       a. Checks if two variables refer to the same object in memory\n",
        "       b. Compares object identity, not contents\n",
        "\n",
        "       e.g. a = [1, 2, 3]\n",
        "            b = [1, 2, 3]\n",
        "            print(a is b)   False — because they are different objects in memory\n",
        "            c = a\n",
        "            print(a is c)   True — both point to the same memory location"
      ],
      "metadata": {
        "id": "EZb44XYdXgCy"
      }
    },
    {
      "cell_type": "markdown",
      "source": [
        "8. What are logical operators in Python?\n",
        "   -> Logical operators in Python are used to combine conditional statements and return Boolean values (True or False).\n",
        "\n",
        "   The 3 types of logical operators are:\n",
        "\n",
        "\n",
        "1.   and - Returns \"True\" if both conditions are true, True and True - True\n",
        "2.   or - Returns \"True\" if at least one condition is true, True or False - True\n",
        "3.   not - Reverses the \"Boolean value\", not True - False\n",
        "\n",
        "\n",
        "\n"
      ],
      "metadata": {
        "id": "YGEqwbUkly4t"
      }
    },
    {
      "cell_type": "markdown",
      "source": [
        "9. What is type casting in Python?\n",
        "   -> The process of changing the data type of a value/object is called typecasting/ type conversion in python.\n",
        "\n",
        "   e.g. a = \"2\"\n",
        "        print(type(a))\n",
        "        print(type(int(a)))\n",
        "        -> <class 'str'>\n",
        "           <class 'int'>"
      ],
      "metadata": {
        "id": "xYHPOHSynhWO"
      }
    },
    {
      "cell_type": "markdown",
      "source": [
        "10.  What is the difference between implicit and explicit type casting?\n",
        "   -> Implicit - In this case, python automatically understands the datatype of the object without mentioning it in the code.\n",
        "    e.g. a = 2\n",
        "          type(a)\n",
        "          -> \"int\"\n",
        "\n",
        "      -> Explicit - In this case, we've to change the data type using in-built function.\n",
        "\n",
        "      e.g. a = 2\n",
        "           b = str(a)\n",
        "           print(type(b))\n",
        "           -> <class \"str\">"
      ],
      "metadata": {
        "id": "0dnQpwLnohjO"
      }
    },
    {
      "cell_type": "markdown",
      "source": [
        "11. What is the purpose of conditional statements in Python?\n",
        "    -> Conditional statements in Python allow your program to make decisions based on certain conditions. They let your code choose different actions depending on whether a condition is True or False.\n",
        "\n",
        "    Purpose of Conditional Statements:\n",
        "\n",
        "\n",
        "*   To control the flow of program\n",
        "*   To execute code only when certain conditions are met\n",
        "*   To make programs dynamic and responsive\n",
        "\n",
        "The types of conditional statements are:\n",
        "\n",
        "\n",
        "\n",
        "*   if - Executes a block if the condition is true\n",
        "*   elif - Checks another condition if the previous one is false\n",
        "*   else: Executes if all previous conditions are false\n",
        "*   Nested if else - Used when one decision depends on another\n",
        "\n",
        "\n",
        "\n",
        "\n",
        "\n",
        "\n",
        "\n",
        "\n",
        "\n"
      ],
      "metadata": {
        "id": "6WSkdi3uqynd"
      }
    },
    {
      "cell_type": "markdown",
      "source": [
        "12.  How does the elif statement work?\n",
        "     -> The elif statement in Python is short for \"else if\" and allows you to check multiple conditions in sequence. It's used when you need to test several different conditions, but only want one block of code to execute.\n",
        "\n",
        "     e.g.\n",
        "     \n",
        "     if condition1:\n",
        "          # Run this block if condition1 is True\n",
        "     elif condition2:\n",
        "          # Run this block if condition1 is False and condition2 is True\n",
        "     elif condition3:\n",
        "          # Run this block if previous conditions are False and condition3 is True\n",
        "     else:\n",
        "          # Run this if none of the above conditions are True"
      ],
      "metadata": {
        "id": "qb2Ak7RBsgyl"
      }
    },
    {
      "cell_type": "markdown",
      "source": [
        "13. What is the difference between for and while loops?\n",
        "    -> Both for and while loops in Python are used for repeating tasks, but they are used in different situations.\n",
        "\n",
        "    -> FOR Loop — Use when we know how many times to repeat.\n",
        "\n",
        "\n",
        "*   Iterates over a sequence (like list, range, string, etc.)\n",
        "*   Best when we know exactly how many times we want to loop\n",
        "\n",
        "e.g.\n",
        "\n",
        "for i in range(5):\n",
        "          \n",
        "          print(i)\n",
        "     -> 0,1,2,3,4\n",
        "\n",
        "###    -> WHILE Loop — Use when we don not know how many times to repeat.\n",
        "*   Repeats as long as a condition is true\n",
        "*   Best for open-ended loops where the number of iterations is unknown\n",
        "\n",
        "e.g. i = 0\n",
        "\n",
        "while i < 5:\n",
        "    \n",
        "    print(i)\n",
        "    i += 1\n",
        "  \n",
        "-> 0,1,2,3,4\n",
        "\n",
        "Key Differences:\n",
        "\n",
        "For Loop:\n",
        "\n",
        "a. Use case: Known number of iterations\n",
        "b. Works on\t: Sequences (list, range, etc.)\n",
        "c. Condition check:\tAutomatically in sequence\n",
        "d. Risk: Less risky\n",
        "\n",
        "While Loop:\n",
        "\n",
        "a. Use case: Unknown number of iterations\n",
        "b. Works on: Boolean condition\n",
        "c. Condtition check: Manually controlled\n",
        "d. Risk: Higher risk if condition never false\n",
        "\n",
        "\n",
        "\n",
        "\n",
        "\n"
      ],
      "metadata": {
        "id": "SqDV1022tTq1"
      }
    },
    {
      "cell_type": "markdown",
      "source": [
        "14. Describe a scenario where a while loop is more suitable than a for loop?\n",
        "\n",
        "-> A while loop is more suitable than a for loop when we don’t know in advance how many times to repeat a task.\n",
        "\n",
        "Real-world Scenario: User Login Attempt\n",
        "If a login system is built where a user must enter the correct password to proceed. We don’t know how many times they'll get it wrong — so a while loop is perfect.\n",
        "\n",
        "e.g.\n",
        "\n",
        "correct_password = \"admin123\"\n",
        "\n",
        "user_input = \" \"\n",
        "\n",
        "\n",
        "while user_input != correct_password:\n",
        "    \n",
        "    user_input = input(\"Enter your password: \")\n",
        "\n",
        "print(\"Access granted.\")\n",
        "\n"
      ],
      "metadata": {
        "id": "MEyz2Eydvaol"
      }
    },
    {
      "cell_type": "markdown",
      "source": [
        "# Practical Questions"
      ],
      "metadata": {
        "id": "DHKoTyfN0Iw-"
      }
    },
    {
      "cell_type": "code",
      "source": [
        "# 1. Write a Python program to print \"Hello, World!\"\n",
        "\n",
        "print(\"Hello, World!\")"
      ],
      "metadata": {
        "colab": {
          "base_uri": "https://localhost:8080/"
        },
        "id": "xRPuaCK70kxH",
        "outputId": "19ff1c77-f502-48af-f3a8-3481b7cef4fc"
      },
      "execution_count": 6,
      "outputs": [
        {
          "output_type": "stream",
          "name": "stdout",
          "text": [
            "Hello, World!\n"
          ]
        }
      ]
    },
    {
      "cell_type": "code",
      "source": [
        "# 2. Write a Python program that displays your name and age\n",
        "\n",
        "my_details = {\"Name\": \"Mohima Dey\", \"Age\": \"22\"}\n",
        "print(my_details)"
      ],
      "metadata": {
        "colab": {
          "base_uri": "https://localhost:8080/"
        },
        "id": "L5l6WdGd2VLf",
        "outputId": "491bf1d7-9a87-4d74-ad31-3844ca0eb686"
      },
      "execution_count": 13,
      "outputs": [
        {
          "output_type": "stream",
          "name": "stdout",
          "text": [
            "{'Name': 'Mohima Dey', 'Age': '22'}\n"
          ]
        }
      ]
    },
    {
      "cell_type": "code",
      "source": [
        "# 3. Write code to print all the pre-defined keywords in Python using the keyword library\n",
        "\n",
        "import keyword\n",
        "print(keyword.kwlist)\n",
        "\n",
        "print(len(keyword.kwlist))\n",
        "\n"
      ],
      "metadata": {
        "colab": {
          "base_uri": "https://localhost:8080/"
        },
        "id": "sykv-QRF23RB",
        "outputId": "ca09ef90-ce7e-4ae0-fc50-5a7d4fbe5c92"
      },
      "execution_count": 15,
      "outputs": [
        {
          "output_type": "stream",
          "name": "stdout",
          "text": [
            "['False', 'None', 'True', 'and', 'as', 'assert', 'async', 'await', 'break', 'class', 'continue', 'def', 'del', 'elif', 'else', 'except', 'finally', 'for', 'from', 'global', 'if', 'import', 'in', 'is', 'lambda', 'nonlocal', 'not', 'or', 'pass', 'raise', 'return', 'try', 'while', 'with', 'yield']\n",
            "35\n"
          ]
        }
      ]
    },
    {
      "cell_type": "code",
      "source": [
        "# 4. Write a program that checks if a given word is a Python keyword\n",
        "\n",
        "Word = input(\"Enter a word: \")\n",
        "\n",
        "if Word in keyword.kwlist:\n",
        "  print(f\"{Word} is a keyword\")\n",
        "else:\n",
        "  print(f\"{Word} is not a keyword\")"
      ],
      "metadata": {
        "colab": {
          "base_uri": "https://localhost:8080/"
        },
        "id": "NudSvoiW45tX",
        "outputId": "e650a12e-8136-4804-b9c5-44889cecdf84"
      },
      "execution_count": 18,
      "outputs": [
        {
          "output_type": "stream",
          "name": "stdout",
          "text": [
            "Enter a word: if\n",
            "if is a keyword\n"
          ]
        }
      ]
    },
    {
      "cell_type": "code",
      "source": [
        "# 4. Write a program that checks if a given word is a Python keyword\n",
        "\n",
        "Word = input(\"Enter a word: \")\n",
        "\n",
        "if Word in keyword.kwlist:\n",
        "  print(f\"{Word} is a keyword\")\n",
        "else:\n",
        "  print(f\"{Word} is not a keyword\")"
      ],
      "metadata": {
        "colab": {
          "base_uri": "https://localhost:8080/"
        },
        "id": "yqw_i8ks6XWL",
        "outputId": "a92166da-8ded-49a4-eda6-841703186a05"
      },
      "execution_count": 19,
      "outputs": [
        {
          "output_type": "stream",
          "name": "stdout",
          "text": [
            "Enter a word: Mohima\n",
            "Mohima is not a keyword\n"
          ]
        }
      ]
    },
    {
      "cell_type": "code",
      "source": [
        "# 5. Create a list and tuple in Python, and demonstrate how attempting to change an element works differently for each\n",
        "\n",
        "my_list = [1,2,3]\n",
        "my_tuple = (1,2,3)\n",
        "\n",
        "my_list[0] = 100\n",
        "print(my_list)\n",
        "\n",
        "my_tuple[0] = 100\n",
        "print(my_tuple)"
      ],
      "metadata": {
        "colab": {
          "base_uri": "https://localhost:8080/",
          "height": 211
        },
        "id": "6EGqQy-s-_SX",
        "outputId": "1dbef934-ff93-4a01-b3f2-46fd17fe46c1"
      },
      "execution_count": 23,
      "outputs": [
        {
          "output_type": "stream",
          "name": "stdout",
          "text": [
            "[100, 2, 3]\n"
          ]
        },
        {
          "output_type": "error",
          "ename": "TypeError",
          "evalue": "'tuple' object does not support item assignment",
          "traceback": [
            "\u001b[0;31m---------------------------------------------------------------------------\u001b[0m",
            "\u001b[0;31mTypeError\u001b[0m                                 Traceback (most recent call last)",
            "\u001b[0;32m<ipython-input-23-425db2907ee8>\u001b[0m in \u001b[0;36m<cell line: 0>\u001b[0;34m()\u001b[0m\n\u001b[1;32m      7\u001b[0m \u001b[0mprint\u001b[0m\u001b[0;34m(\u001b[0m\u001b[0mmy_list\u001b[0m\u001b[0;34m)\u001b[0m\u001b[0;34m\u001b[0m\u001b[0;34m\u001b[0m\u001b[0m\n\u001b[1;32m      8\u001b[0m \u001b[0;34m\u001b[0m\u001b[0m\n\u001b[0;32m----> 9\u001b[0;31m \u001b[0mmy_tuple\u001b[0m\u001b[0;34m[\u001b[0m\u001b[0;36m0\u001b[0m\u001b[0;34m]\u001b[0m \u001b[0;34m=\u001b[0m \u001b[0;36m100\u001b[0m\u001b[0;34m\u001b[0m\u001b[0;34m\u001b[0m\u001b[0m\n\u001b[0m\u001b[1;32m     10\u001b[0m \u001b[0mprint\u001b[0m\u001b[0;34m(\u001b[0m\u001b[0mmy_tuple\u001b[0m\u001b[0;34m)\u001b[0m\u001b[0;34m\u001b[0m\u001b[0;34m\u001b[0m\u001b[0m\n",
            "\u001b[0;31mTypeError\u001b[0m: 'tuple' object does not support item assignment"
          ]
        }
      ]
    },
    {
      "cell_type": "code",
      "source": [
        "# 5. Create a list and tuple in Python, and demonstrate how attempting to change an element works differently for each\n",
        "# But if we change tuple to list we can modify the elements an then reconvert to tuple after changes.\n",
        "\n",
        "my_list = [1,2,3]\n",
        "my_tuple = (1,2,3)\n",
        "\n",
        "my_list[0] = 100\n",
        "print(my_list)\n",
        "\n",
        "my_tuple= list(my_tuple)\n",
        "my_tuple[0] = 100\n",
        "print(my_tuple)\n",
        "my_tuple = tuple(my_tuple)\n",
        "print(my_tuple)"
      ],
      "metadata": {
        "colab": {
          "base_uri": "https://localhost:8080/"
        },
        "id": "79GdrowfAM5l",
        "outputId": "4b29224c-3bfb-42c6-8ba6-0aabed3bc7cc"
      },
      "execution_count": 25,
      "outputs": [
        {
          "output_type": "stream",
          "name": "stdout",
          "text": [
            "[100, 2, 3]\n",
            "[100, 2, 3]\n",
            "(100, 2, 3)\n"
          ]
        }
      ]
    },
    {
      "cell_type": "code",
      "source": [
        "# 6.  Write a function to demonstrate the behavior of mutable and immutable arguments.\n",
        "# As Tuple is immutable, thus the append function is not workable and shows error.\n",
        "\n",
        "my_tuple = (10,20,30)\n",
        "my_list = [ 10, 20, 30]\n",
        "\n",
        "my_list.append(40)\n",
        "print(my_list)\n",
        "\n",
        "# my_tuple.append(40)\n",
        "# print(my_tuple) # shows error\n",
        "#So, we converted to list\n",
        "\n",
        "my_tuple = list(my_tuple)\n",
        "my_tuple.append(40)\n",
        "my_tuple = tuple(my_tuple)\n",
        "print(my_tuple)"
      ],
      "metadata": {
        "colab": {
          "base_uri": "https://localhost:8080/"
        },
        "id": "vTtdl5rXA9r1",
        "outputId": "6558fbbc-713c-4ed3-ea32-51a6c5f209bf"
      },
      "execution_count": 28,
      "outputs": [
        {
          "output_type": "stream",
          "name": "stdout",
          "text": [
            "[10, 20, 30, 40]\n",
            "(10, 20, 30, 40)\n"
          ]
        }
      ]
    },
    {
      "cell_type": "code",
      "source": [
        "# 7. Write a program that performs basic arithmetic operations on two user-input numbers\n",
        "\n",
        "num1 = input(\"Enter first number: \")\n",
        "num2 = input(\"Enter second number: \")\n",
        "\n",
        "num1 = int(num1)\n",
        "num2 = int(num2)\n",
        "\n",
        "addition = num1 + num2\n",
        "subtraction = num1 - num2\n",
        "multiplication = num1 * num2\n",
        "division = num1 / num2\n",
        "\n",
        "print(\"Results:\")\n",
        "print(\"Addition:\", addition)\n",
        "print(\"Subtraction:\", subtraction)\n",
        "print(\"Multiplication:\", multiplication)\n",
        "print(\"Division:\", division)"
      ],
      "metadata": {
        "colab": {
          "base_uri": "https://localhost:8080/"
        },
        "id": "lHwJPKAbDS5i",
        "outputId": "baef9075-15c5-4e29-9eef-2d3b4d46759c"
      },
      "execution_count": 29,
      "outputs": [
        {
          "output_type": "stream",
          "name": "stdout",
          "text": [
            "Enter first number: 24\n",
            "Enter second number: 42\n",
            "Results:\n",
            "Addition: 66\n",
            "Subtraction: -18\n",
            "Multiplication: 1008\n",
            "Division: 0.5714285714285714\n"
          ]
        }
      ]
    },
    {
      "cell_type": "code",
      "source": [
        "# 8. Write a program to demonstrate the use of logical operators\n",
        "\n",
        "x = 20\n",
        "y = 40\n",
        "\n",
        "if x <= 20 and y >=20:\n",
        "    print(\"x & y are equal to greater than 20\")\n",
        "if x <= 20 or y >= 50:\n",
        "    print(\"x and y are less than 50\")\n",
        "\n",
        "if not(x == y):\n",
        "    print(\"x and y are not equal\")\n"
      ],
      "metadata": {
        "colab": {
          "base_uri": "https://localhost:8080/"
        },
        "id": "yedVC0B5FqsX",
        "outputId": "a5763d0d-d024-436c-b6b5-6d943421ec04"
      },
      "execution_count": 30,
      "outputs": [
        {
          "output_type": "stream",
          "name": "stdout",
          "text": [
            "x & y are equal to greater than 20\n",
            "x and y are less than 50\n",
            "x and y are not equal\n"
          ]
        }
      ]
    },
    {
      "cell_type": "code",
      "source": [
        "# 9. Write a Python program to convert user input from string to integer, float, and boolean types\n",
        "\n",
        "user_input = input(\"Enter your number\")\n",
        "\n",
        "int_value = int(user_input)\n",
        "float_value = float(user_input)\n",
        "bool_value = bool(user_input)\n",
        "\n",
        "print(\"Integer Value:\", int_value)\n",
        "print(\"Float Value:\", float_value)\n",
        "print(\"Boolean Value:\", bool_value)"
      ],
      "metadata": {
        "colab": {
          "base_uri": "https://localhost:8080/"
        },
        "id": "r-njpG3nHKUK",
        "outputId": "79f75949-a246-4c15-db7d-290e8f0123df"
      },
      "execution_count": 31,
      "outputs": [
        {
          "output_type": "stream",
          "name": "stdout",
          "text": [
            "Enter your number4\n",
            "Integer Value: 4\n",
            "Float Value: 4.0\n",
            "Boolean Value: True\n"
          ]
        }
      ]
    },
    {
      "cell_type": "code",
      "source": [
        "# 10. Write code to demonstrate type casting with list elements\n",
        "\n",
        "my_list = [1,2,3,4]\n",
        "print(type(0))\n",
        "\n",
        "print(type(float(0)))"
      ],
      "metadata": {
        "colab": {
          "base_uri": "https://localhost:8080/"
        },
        "id": "vUjnvQw9HvjZ",
        "outputId": "3eb925ec-ba95-44c8-bf6b-ac263596793a"
      },
      "execution_count": 36,
      "outputs": [
        {
          "output_type": "stream",
          "name": "stdout",
          "text": [
            "<class 'int'>\n",
            "<class 'float'>\n"
          ]
        }
      ]
    },
    {
      "cell_type": "code",
      "source": [
        "# 11. Write a program that checks if a number is positive, negative, or zero\n",
        "\n",
        "num = int(input(\"Enter your number: \"))\n",
        "\n",
        "if num > 0:\n",
        "    print(f\"{num} is a positive number\")\n",
        "elif num < 0:\n",
        "    print(f\"{num} is a negative number\")\n",
        "else:\n",
        "    print(f\"{num} is zero\")"
      ],
      "metadata": {
        "colab": {
          "base_uri": "https://localhost:8080/"
        },
        "id": "iR0CXPn0Iqvi",
        "outputId": "0085e164-01e4-418d-9bd1-eb1f32b5b180"
      },
      "execution_count": 37,
      "outputs": [
        {
          "output_type": "stream",
          "name": "stdout",
          "text": [
            "Enter your number: 4\n",
            "4 is a positive number\n"
          ]
        }
      ]
    },
    {
      "cell_type": "code",
      "source": [
        "# 12 Write a for loop to print numbers from 1 to 10.\n",
        "\n",
        "i = 1\n",
        "\n",
        "while i <= 10:\n",
        "  print(i)\n",
        "  i += 1"
      ],
      "metadata": {
        "colab": {
          "base_uri": "https://localhost:8080/"
        },
        "id": "NrUgjeaWJ8bN",
        "outputId": "048c983b-e1ef-4fee-c2ab-c37e8098c9d1"
      },
      "execution_count": 39,
      "outputs": [
        {
          "output_type": "stream",
          "name": "stdout",
          "text": [
            "1\n",
            "2\n",
            "3\n",
            "4\n",
            "5\n",
            "6\n",
            "7\n",
            "8\n",
            "9\n",
            "10\n"
          ]
        }
      ]
    },
    {
      "cell_type": "code",
      "source": [
        "# 13. Write a Python program to find the sum of all even numbers between 1 and 50\n",
        "\n",
        "sum = 0\n",
        "\n",
        "for i in range(1,51):\n",
        "  if i % 2 == 0:\n",
        "    sum += i\n",
        "\n",
        "print(sum)\n"
      ],
      "metadata": {
        "colab": {
          "base_uri": "https://localhost:8080/"
        },
        "id": "HbO-wDimKRBQ",
        "outputId": "a4d0040f-9aa8-4760-a020-53d62ccc5d85"
      },
      "execution_count": 43,
      "outputs": [
        {
          "output_type": "stream",
          "name": "stdout",
          "text": [
            "650\n"
          ]
        }
      ]
    },
    {
      "cell_type": "code",
      "source": [
        "# 14.  Write a program to reverse a string using a while loop\n",
        "\n",
        "text = input(\"Enter your text: \")\n",
        "\n",
        "reverse_text= \" \"\n",
        "index= len(text) - 1\n",
        "\n",
        "while index >= 0:\n",
        "  reverse_text += text[index]\n",
        "  index -= 1\n",
        "\n",
        "print(reverse_text)"
      ],
      "metadata": {
        "colab": {
          "base_uri": "https://localhost:8080/"
        },
        "id": "hpA2cMOmK4dV",
        "outputId": "627cc645-d21a-4037-833d-8f173372348f"
      },
      "execution_count": 44,
      "outputs": [
        {
          "output_type": "stream",
          "name": "stdout",
          "text": [
            "Enter your text: Office\n",
            " eciffO\n"
          ]
        }
      ]
    },
    {
      "cell_type": "code",
      "source": [
        "# 15. Write a Python program to calculate the factorial of a number provided by the user using a while loop\n",
        "\n",
        "num = int(input(\"Enter the number to calculate it's factorial: \"))\n",
        "\n",
        "factorial = 1\n",
        "n = num\n",
        "\n",
        "while num > 0:\n",
        "  factorial *= num\n",
        "  num -= 1\n",
        "\n",
        "print(f\"The factorial of {n} is {factorial}\")"
      ],
      "metadata": {
        "colab": {
          "base_uri": "https://localhost:8080/"
        },
        "id": "-SGr4vIONFF4",
        "outputId": "3d40c6a7-ce00-4608-a708-f96f26204fb2"
      },
      "execution_count": 46,
      "outputs": [
        {
          "output_type": "stream",
          "name": "stdout",
          "text": [
            "Enter the number to calculate it's factorial: 22\n",
            "The factorial of 22 is 1124000727777607680000\n"
          ]
        }
      ]
    },
    {
      "cell_type": "code",
      "source": [],
      "metadata": {
        "id": "t5xIaDlnObSF"
      },
      "execution_count": null,
      "outputs": []
    }
  ]
}