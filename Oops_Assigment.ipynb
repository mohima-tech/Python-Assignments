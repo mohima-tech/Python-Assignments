{
  "nbformat": 4,
  "nbformat_minor": 0,
  "metadata": {
    "colab": {
      "provenance": []
    },
    "kernelspec": {
      "name": "python3",
      "display_name": "Python 3"
    },
    "language_info": {
      "name": "python"
    }
  },
  "cells": [
    {
      "cell_type": "markdown",
      "source": [
        "### Theory Questions"
      ],
      "metadata": {
        "id": "Ne5gVVRtzcGo"
      }
    },
    {
      "cell_type": "markdown",
      "source": [
        " 1. What is Object-Oriented Programming (OOP)?\n",
        "\n",
        " -> Object-Oriented Programming (OOP) is a programming paradigm that organizes software design around data, or objects, rather than functions and logic. It's a way of structuring programs to be more modular and reusable. In essence, OOP allows us to model real-world things as objects in our code.\n",
        "\n",
        " Features:\n",
        "\n",
        "\n",
        "1.   Encapsulation: This is the bundling of data (properties) and the methods (behaviors) that operate on that data into a single unit, known as a class.\n",
        "2.   Inheritance: This allows a new class (the child or subclass) to inherit properties and behaviors from an existing class (the parent or superclass).\n",
        "3. Polymorphism: This means \"many forms.\" It allows objects of different classes to be treated as objects of a common superclass.\n",
        "4. Abstraction: This is the process of hiding complex implementation details and showing only the essential features of an object.\n",
        "\n"
      ],
      "metadata": {
        "id": "lmhVCkHdzhtv"
      }
    },
    {
      "cell_type": "markdown",
      "source": [
        "2. What is a class in OOP?\n",
        "\n",
        "-> In Object-Oriented Programming (OOP), a class is a blueprint or a template for creating objects. It defines a set of properties (attributes or data) and behaviors (methods or functions) that all objects created from the class will have.\n",
        "\n",
        "Features:\n",
        "\n",
        "\n",
        "\n",
        "1.   A class is a logical container that bundles data and functions together\n",
        "2.  It serves as a user-defined data type, allowing programmers to create their own types of data structures\n",
        "3. No memory is allocated when a class is defined; memory is only reserved when we create an object from that class\n",
        "4. Classes are fundamental to implementing core OOP principles like encapsulation (bundling data and methods) and inheritance (creating a new class based on an existing one)\n"
      ],
      "metadata": {
        "id": "meqJ3UML0_a2"
      }
    },
    {
      "cell_type": "markdown",
      "source": [
        "3. What is an object in OOP?\n",
        "\n",
        "-> In Object-Oriented Programming (OOP), an object is a specific instance of a class. It's a fundamental building block of an OOP program, representing a real-world entity with its own unique data and a set of behaviors.\n",
        "\n",
        "Features:\n",
        "\n",
        "\n",
        "\n",
        "1.   State: An object's state is defined by the values of its attributes or properties.\n",
        "2.   Behavior: An object's behavior is defined by its methods. These are the actions the object can perform.\n",
        "3. Identity: Each object has a unique identity that distinguishes it from other objects, even if they are from the same class and have the same state.\n",
        "\n",
        "In programming, creating an object from a class is called instantiation, and the object itself is often referred to as an instance of the class.\n",
        "\n"
      ],
      "metadata": {
        "id": "8aRXF5d51lFA"
      }
    },
    {
      "cell_type": "markdown",
      "source": [
        "4.  What is the difference between abstraction and encapsulation?\n",
        "\n",
        "-> 1. Abstraction: The \"What\"\n",
        "Abstraction focuses on hiding complex implementation details and showing only the essential features of an object. It's about simplifying a system by providing a clear, high-level view of its functionality without exposing the underlying mechanics.\n",
        "\n",
        "2. Encapsulation, on the other hand, is the practice of bundling data (attributes) and the methods (behaviors) that operate on that data into a single unit, which is the class. Its purpose is to control access to the object's data and protect it from being accidentally or maliciously changed from the outside.\n",
        "\n",
        "\n",
        "Abstraction:\n",
        "1.   Primary Goal: Hiding complexity to simplify the interface.\n",
        "2.   Focus: \"What\" the object does.\n",
        "3.   Level: Design or interface level.\n",
        "4.   Real-world analogy: The controls on a remote control (buttons for power, volume, channel).\n",
        "\n",
        "Encapsulation:\n",
        "\n",
        "1. Primary Goal: Bundling data and methods to protect data integrity.\n",
        "2. Focus: \"How\" the data is stored and protected.\n",
        "3. Level: Implementation or structural level.\n",
        "4. Real-world analogy: The internal components of the remote, which are hidden inside a plastic case."
      ],
      "metadata": {
        "id": "iX1n9j3r2EzO"
      }
    },
    {
      "cell_type": "markdown",
      "source": [
        "5. What are dunder methods in Python?\n",
        "\n",
        "-> Dunder methods in Python are special methods with names that start and end with two underscores, like __init__ or __str__. The \"dunder\" is a shorthand for \"double underscore\".\n",
        "\n",
        "Common Dunder Methods:\n",
        "\n",
        "1. __init__(self, ...): The constructor. It's automatically called when we create a new object from a class. It's used to initialize the object's attributes.\n",
        "\n",
        "2. __str__(self): The string representation. It's called when we use the str() function or print() on an object. It should return a human-readable string representation of the object."
      ],
      "metadata": {
        "id": "r-YxW7ro3elu"
      }
    },
    {
      "cell_type": "markdown",
      "source": [
        "6. Explain the concept of inheritance in OOP.\n",
        "\n",
        "-> Inheritance in OOP is a mechanism that allows a new class (the child or subclass) to inherit properties (attributes) and behaviors (methods) from an existing class (the parent or superclass). It's a way to create a hierarchy of classes, promoting code reuse and establishing a logical \"is-a\" relationship between them.\n",
        "\n",
        "Principles of Inheritance:\n",
        "\n",
        "1. Code Reusability: Inheritance allows you to reuse the code of a superclass without having to write it again in every subclass. This makes your code more efficient and easier to maintain.\n",
        "\n",
        "2. \"Is-a\" Relationship: Inheritance models a hierarchical relationship where a subclass \"is a\" type of its superclass. For example, a Car \"is a\" Vehicle, and a SportsCar \"is a\" Car.\n",
        "\n",
        "3. Overriding: A subclass can override or redefine a method from its superclass to provide a different or more specific implementation. For example, a Dog might have a speak() method that overrides the generic speak() method from the Animal class."
      ],
      "metadata": {
        "id": "OQ4uuXS34C03"
      }
    },
    {
      "cell_type": "markdown",
      "source": [
        "7. What is polymorphism in OOP?\n",
        "\n",
        "-> Polymorphism is an OOP concept that allows objects of different classes to be treated as objects of a common superclass. The term comes from the Greek words \"poly\" (meaning \"many\") and \"morph\" (meaning \"form\"), so polymorphism literally means \"many forms.\" It allows you to use a single interface to represent different underlying types of objects, making the code more flexible, reusable, and easier to manage.\n",
        "\n",
        "How it works:\n",
        "\n",
        "Polymorphism is often demonstrated through method overriding. When a subclass overrides a method from its parent class, it provides a specific implementation while keeping the same method name. This allows a single function call to behave differently depending on the object it's being called on."
      ],
      "metadata": {
        "id": "ms2HrcyM5obG"
      }
    },
    {
      "cell_type": "markdown",
      "source": [
        "8. How is encapsulation achieved in Python?\n",
        "\n",
        "-> Encapsulation is achieved in Python by using naming conventions to signify that a variable or method is intended for internal use. This practice, while not enforcing strict privacy, serves as a strong signal to other developers to not access these members directly from outside the class.\n",
        "\n",
        "Techniques for Encapsulation in Python:\n",
        "\n",
        "1. Public Members: By default, all members (attributes and methods) in a Python class are considered public. They can be accessed and modified from anywhere, both inside and outside the class.\n",
        "\n",
        "2. Protected Members: A single leading underscore (_) is used to indicate that a member is protected. This is a convention that signals to developers that the member is intended for internal use within the class and its subclasses. It can still be accessed from outside, but it's a warning to avoid doing so.\n",
        "\n",
        "3. Private Members: Two leading underscores (__) are used to make a member pseudo-private. Python internally renames these attributes to avoid name conflicts in subclasses, a process called name mangling. This makes it difficult, but not impossible, to access them from outside the class. It's the closest thing Python has to a private access modifier."
      ],
      "metadata": {
        "id": "OdiyRucn6Pmu"
      }
    },
    {
      "cell_type": "markdown",
      "source": [
        "9.  What is a constructor in Python?\n",
        "\n",
        "-> A constructor in Python is a special method used to initialize an object's state when it is created. It's automatically called when we create a new instance of a class. The primary purpose of a constructor is to assign initial values to the object's attributes.\n",
        "\n",
        "The __init__ Method:\n",
        "\n",
        "In Python, the constructor is the __init__ method. The name stands for \"initialize,\" and it's a dunder method (double underscore). It is not a true constructor in the traditional sense of other languages, but it serves the same purpose of initializing an object.\n",
        "\n",
        "e.g.\n",
        "\n",
        "class MyClass:\n",
        "\n",
        "    def __init__(self, attribute1, attribute2):\n",
        "        self.attribute1 = attribute1\n",
        "        self.attribute2 = attribute2"
      ],
      "metadata": {
        "id": "iGR_rUpq63Le"
      }
    },
    {
      "cell_type": "markdown",
      "source": [
        "10. What are class and static methods in Python?\n",
        "\n",
        "-> 1. Class Methods\n",
        "A class method is a method that receives the class itself as the first argument, conventionally named cls. It's defined using the @classmethod decorator. Class methods are primarily used to access or modify class-level attributes, not instance-level attributes. A common use case is to create alternative constructors for a class.\n",
        "\n",
        "e.g.\n",
        "\n",
        "class Car:\n",
        "\n",
        "    wheels = 4  # Class attribute\n",
        "\n",
        "    def __init__(self, color):\n",
        "        self.color = color  # Instance attribute\n",
        "\n",
        "    @classmethod\n",
        "    def change_wheels(cls, new_wheels):\n",
        "        cls.wheels = new_wheels  # Modifies the class attribute\n",
        "\n",
        "The number of wheels for all cars is 4\n",
        "\n",
        "print(f\"Initial wheels: {Car.wheels}\")\n",
        "\n",
        "Change the number of wheels using the class method\n",
        "\n",
        "Car.change_wheels(3)\n",
        "\n",
        "The change is reflected across all instances\n",
        "\n",
        "print(f\"Updated wheels: {Car.wheels}\")\n",
        "\n",
        "2. Static Methods\n",
        "A static method is a method that belongs to the class but doesn't receive the class or an instance as its first argument. It's defined using the @staticmethod decorator. Static methods are essentially regular functions that are logically grouped with a class. They don't interact with the class's state or instance's state.  They are often used for utility or helper functions that are related to the class but don't depend on its data.\n",
        "\n",
        "e.g.\n",
        "\n",
        "class MathUtils:\n",
        "    @staticmethod\n",
        "    def add(x, y):\n",
        "        return x + y\n",
        "\n",
        "    @staticmethod\n",
        "    def subtract(x, y):\n",
        "        return x - y\n",
        "\n",
        "Static methods are called on the class itself\n",
        "\n",
        "print(f\"Sum: {MathUtils.add(5, 3)}\")\n",
        "\n",
        "print(f\"Difference: {MathUtils.subtract(10, 4)}\")"
      ],
      "metadata": {
        "id": "g9G3WMpg7Woe"
      }
    },
    {
      "cell_type": "markdown",
      "source": [
        "11. What is method overloading in Python?\n",
        "\n",
        "-> Method overloading is the ability to define multiple methods in a class with the same name but with different numbers or types of arguments. However, Python does not support method overloading in the traditional sense seen in languages like Java or C++.\n",
        "\n",
        "If we define multiple methods with the same name in a Python class, the last one defined will override all previous definitions. Python's dynamic typing and a few other language features make classic method overloading unnecessary.\n",
        "\n",
        "e.g.\n",
        "\n",
        "class Calculator:\n",
        "\n",
        "    def add(self, x, y):\n",
        "        return x + y\n",
        "\n",
        "    def add(self, x, y, z):  # This definition overrides the first one\n",
        "        return x + y + z\n",
        "\n",
        "calc = Calculator()\n",
        "\n",
        "print(calc.add(2, 3))  # This will raise a TypeError\n",
        "\n",
        "print(calc.add(2, 3, 5)) # This works"
      ],
      "metadata": {
        "id": "wKUC2PU1_OWX"
      }
    },
    {
      "cell_type": "markdown",
      "source": [
        "12. What is method overriding in OOP?\n",
        "\n",
        "-> Method overriding in Object-Oriented Programming (OOP) is when a subclass provides a specific implementation for a method that is already defined in its parent class. The new method in the subclass has the exact same name, number of parameters, and return type as the one in the parent class.\n",
        "\n",
        "\n",
        "Method overriding in Object-Oriented Programming (OOP) is when a subclass provides a specific implementation for a method that is already defined in its parent class. The new method in the subclass has the exact same name, number of parameters, and return type as the one in the parent class.\n",
        "\n",
        "\n",
        "Think of it like a family. You might inherit a general trait from your parents, like the ability to speak. However, you might speak a different language than they do. Similarly, a subclass inherits a method from its superclass, but it can \"override\" that method to perform a different or more specific action.\n",
        "\n",
        "Key Concepts:\n",
        "\n",
        "1. \"Is-a\" Relationship: Method overriding is a core concept of polymorphism and relies on an \"is-a\" relationship, where the child class is a more specific version of the parent class (e.g., a Dog \"is an\" Animal).\n",
        "\n",
        "2. Signature: The method in the subclass must have the exact same signature as the method in the superclass. This means the method name and the number and type of its parameters must be identical.\n",
        "\n",
        "3. Purpose: The main purpose of overriding is to allow a subclass to provide its own unique behavior while still conforming to the same interface as its parent class. This is what makes polymorphism possible\n",
        "\n",
        "e.g.\n",
        "\n",
        "Parent class\n",
        "\n",
        "class Animal:\n",
        "\n",
        "    def speak(self):\n",
        "        print(\"The animal makes a sound.\")\n",
        "\n",
        "Child class overriding the speak() method\n",
        "\n",
        "class Dog(Animal):\n",
        "\n",
        "    def speak(self):\n",
        "        print(\"Woof!\")\n",
        "\n",
        "Child class overriding the speak() method\n",
        "\n",
        "class Cat(Animal):\n",
        "\n",
        "    def speak(self):\n",
        "        print(\"Meow!\")\n",
        "\n",
        "Create instances\n",
        "\n",
        "my_animal = Animal()\n",
        "\n",
        "my_dog = Dog()\n",
        "\n",
        "my_cat = Cat()\n",
        "\n",
        "Calling the same method on different objects\n",
        "\n",
        "my_animal.speak()  # Output: The animal makes a sound.\n",
        "\n",
        "my_dog.speak()     # Output: Woof!\n",
        "\n",
        "my_cat.speak()     # Output: Meow!"
      ],
      "metadata": {
        "id": "_c0HjmDLALyl"
      }
    },
    {
      "cell_type": "markdown",
      "source": [
        "13. What is a property decorator in Python?\n",
        "\n",
        "-> A property decorator in Python is a way to create properties within a class. It allows us to define methods that get, set, or delete an attribute as if it were a simple variable, without needing to call separate getter and setter methods explicitly.\n",
        "\n",
        "e.g.\n",
        "\n",
        "class Circle:\n",
        "\n",
        "    def __init__(self, radius):\n",
        "\n",
        "        self._radius = radius  # A private-like attribute\n",
        "\n",
        "    @property\n",
        "    def radius(self):\n",
        "        \"\"\"The getter method for the radius.\"\"\"\n",
        "        print(\"Getting the radius...\")\n",
        "        return self._radius\n",
        "\n",
        "    @radius.setter\n",
        "    def radius(self, value):\n",
        "        \"\"\"The setter method with validation.\"\"\"\n",
        "        print(\"Setting the radius...\")\n",
        "        if value < 0:\n",
        "            raise ValueError(\"Radius cannot be negative\")\n",
        "        self._radius = value\n",
        "\n",
        "    @radius.deleter\n",
        "    def radius(self):\n",
        "        \"\"\"The deleter method.\"\"\"\n",
        "        print(\"Deleting the radius...\")\n",
        "        del self._radius\n",
        "\n",
        "Using the property\n",
        "\n",
        "c = Circle(5)\n",
        "\n",
        "Get the radius (calls the @property method)\n",
        "\n",
        "print(f\"Initial radius: {c.radius}\")\n",
        "\n",
        "Set a new radius (calls the @radius.setter method)\n",
        "\n",
        "c.radius = 10\n",
        "\n",
        "print(f\"New radius: {c.radius}\")\n",
        "\n",
        "Attempt to set an invalid value (raises an error)\n",
        "try:\n",
        "\n",
        "    c.radius = -1\n",
        "\n",
        "except ValueError as e:\n",
        "\n",
        "    print(e)\n",
        "\n",
        "Delete the radius (calls the @radius.deleter method)\n",
        "\n",
        "del c.radius\n",
        "\n",
        "\n"
      ],
      "metadata": {
        "id": "qyK2nunGBFwG"
      }
    },
    {
      "cell_type": "markdown",
      "source": [
        "14. Why is polymorphism important in OOP?\n",
        "\n",
        "-> Polymorphism is important in OOP because it makes code flexible, reusable, and easier to maintain. It allows us to write code that can work with a variety of objects in a uniform way, without needing to know their specific type at compile time.\n",
        "\n",
        "Benefits of Polymorphism:\n",
        "\n",
        "1. Code Reusability: Polymorphism allows us to write a single piece of code that can operate on different objects\n",
        "\n",
        "2. Simplified Interface: It simplifies the interface of our code. Instead of having to write different functions for each type of object (e.g., calculate_square_area(), calculate_circle_area()), we can use a single, generalized method that works for all of them. This makes our code cleaner and more intuitive\n",
        "\n",
        "3. Decoupling: Polymorphism helps decouple the code. The calling code (e.g., the function that calls calculate_area()) doesn't need to be tightly coupled to the specific implementation of each subclass. This means we can add new subclasses without having to modify the existing code that uses the common interface\n",
        "\n",
        "4. Improved Readability: Code that utilizes polymorphism is often more readable and logical because it models real-world concepts more accurately."
      ],
      "metadata": {
        "id": "zL5bLuJ5CJkl"
      }
    },
    {
      "cell_type": "markdown",
      "source": [
        "15. What is an abstract class in Python?\n",
        "\n",
        "-> An abstract class is a blueprint for other classes that cannot be instantiated on its own. It's a class that is meant to be inherited by a subclass, which must then provide a concrete implementation for the abstract methods defined in the parent class. In Python, an abstract class is defined using the abc (Abstract Base Classes) module.\n",
        "\n",
        "Features:\n",
        "\n",
        "1. Abstract Methods: An abstract class can have one or more abstract methods. These methods have a declaration but no implementation (no body). The subclass is forced to provide a body for these methods\n",
        "\n",
        "2. Cannot Be Instantiated: We cannot create an object directly from an abstract class. Trying to do so will result in an error. It exists solely to define a common interface for its subclasses\n",
        "\n",
        "3. Enforces a Contract: An abstract class acts like a contract. It guarantees that any subclass that inherits from it will have all the methods defined as abstract in the parent. This ensures that a collection of objects, even if they're from different classes, can all be used in a consistent way\n",
        "\n",
        "e.g.\n",
        "\n",
        "from abc import ABC, abstractmethod\n",
        "\n",
        "The Animal class is now an abstract class\n",
        "\n",
        "class Animal(ABC):\n",
        "\n",
        "    @abstractmethod\n",
        "    def speak(self):\n",
        "        pass  # No implementation here\n",
        "\n",
        "    # An abstract class can also have concrete methods\n",
        "    def breathe(self):\n",
        "        print(\"I am breathing.\")\n",
        "\n",
        "This will raise a TypeError: Can't instantiate abstract class Animal\n",
        "\n",
        "my_animal = Animal()\n",
        "\n",
        "\n",
        "class Dog(Animal):\n",
        "\n",
        "    # This class must implement the 'speak' method\n",
        "    def speak(self):\n",
        "        print(\"Woof!\")\n",
        "\n",
        "class Cat(Animal):\n",
        "    # This class must implement the 'speak' method\n",
        "    def speak(self):\n",
        "        print(\"Meow!\")\n",
        "\n",
        "my_dog = Dog()\n",
        "\n",
        "my_dog.speak()\n",
        "\n",
        "my_dog.breathe()\n",
        "\n",
        "my_cat = Cat()\n",
        "\n",
        "my_cat.speak()\n",
        "\n",
        "\n",
        "\n"
      ],
      "metadata": {
        "id": "CmSk5OaSC4jN"
      }
    },
    {
      "cell_type": "markdown",
      "source": [
        "16. What are the advantages of OOP?\n",
        "\n",
        "-> The primary advantages of Object-Oriented Programming (OOP) are its ability to make code more modular, reusable, and easier to maintain. By modeling real-world objects, OOP creates a highly organized structure for software development.\n",
        "\n",
        "Key Advantages:\n",
        "\n",
        "1. Modularity and Reusability: OOP allows us to create self-contained objects that bundle data and behavior. Once an object (a class) is created, it can be reused in different parts of the program or in entirely new projects.\n",
        "\n",
        "2. Maintainability and Scalability: The modular nature of OOP makes it easier to debug and maintain code. If there's a problem with a specific object, we only need to fix the code within that class, without affecting other parts of the program.\n",
        "\n",
        "3. Encapsulation and Data Security: Encapsulation bundles data and the methods that operate on it into a single unit. This hides the internal state of an object from the outside world, controlling access and protecting data from unintended modification. This is crucial for preventing bugs and ensuring data integrity.\n",
        "\n",
        "4. Polymorphism and Flexibility: Polymorphism allows objects of different classes to be treated as objects of a common superclass. This means we can write more flexible and generic code.\n"
      ],
      "metadata": {
        "id": "G62WYHEoEDa2"
      }
    },
    {
      "cell_type": "markdown",
      "source": [
        "17.  What is the difference between a class variable and an instance variable?\n",
        "\n",
        "-> Class Variables\n",
        "A class variable is a variable that is shared by all objects (instances) of a class. It's defined within the class but outside of any instance methods. We can think of it as a piece of data that's common to the entire class.\n",
        "\n",
        "1. Definition: Defined directly inside the class body.\n",
        "\n",
        "2. Access: Accessed using the class name itself (ClassName.variable) or through an instance (instance_name.variable).\n",
        "\n",
        "3. Purpose: Used to store data that is the same for all instances, like a constant value or a counter for the number of instances created.\n",
        "\n",
        "e.g.\n",
        "\n",
        "class Car:\n",
        "    # This is a class variable shared by all Car objects\n",
        "    wheels = 4\n",
        "\n",
        "    def __init__(self, color):\n",
        "        self.color = color\n",
        "\n",
        "car1 = Car(\"red\")\n",
        "\n",
        "car2 = Car(\"blue\")\n",
        "\n",
        "print(Car.wheels)   # Output: 4\n",
        "\n",
        "print(car1.wheels)  # Output: 4\n",
        "\n",
        "print(car2.wheels)  # Output: 4\n",
        "\n",
        "-> Instance Variables\n",
        "An instance variable is a variable that is unique to each instance of a class. Every time we create a new object, it gets its own copy of the instance variables. These are typically defined inside the __init__ method using self.\n",
        "\n",
        "1. Definition: Defined inside an instance method, usually the __init__ method, using the self keyword.\n",
        "\n",
        "2. Access: Accessed using a specific instance (instance_name.variable).\n",
        "\n",
        "3. Purpose: Used to store data that is unique to each object, such as a user's name, a car's color, or an animal's age.\n",
        "\n",
        "e.g.\n",
        "\n",
        "class Car:\n",
        "\n",
        "    def __init__(self, color):\n",
        "        # This is an instance variable, unique to each Car object\n",
        "        self.color = color\n",
        "\n",
        "car1 = Car(\"red\")\n",
        "\n",
        "car2 = Car(\"blue\")\n",
        "\n",
        "print(car1.color)  # Output: red\n",
        "\n",
        "print(car2.color)  # Output: blue\n"
      ],
      "metadata": {
        "id": "tKfbyEW3FeEl"
      }
    },
    {
      "cell_type": "markdown",
      "source": [
        "18.  What is multiple inheritance in Python?\n",
        "\n",
        "-> Multiple inheritance is an object-oriented programming feature that allows a class to inherit from more than one parent class. This means the child class (or subclass) can acquire the attributes and methods of all its parent classes, combining their functionalities into a single new class.\n",
        "\n",
        "e.g.\n",
        "\n",
        "class Car:\n",
        "\n",
        "    def drive(self):\n",
        "        print(\"Driving on the road.\")\n",
        "\n",
        "class Airplane:\n",
        "\n",
        "    def fly(self):\n",
        "        print(\"Flying in the sky.\")\n",
        "\n",
        "FlyingCar inherits from both Car and Airplane\n",
        "\n",
        "class FlyingCar(Car, Airplane):\n",
        "\n",
        "    def land(self):\n",
        "        print(\"Landing the flying car.\")\n",
        "\n",
        "Create an instance of the FlyingCar\n",
        "\n",
        "my_flying_car = FlyingCar()\n",
        "\n",
        "Use methods inherited from both parents\n",
        "\n",
        "my_flying_car.drive()\n",
        "\n",
        "my_flying_car.fly()\n",
        "\n",
        "Use the new method\n",
        "\n",
        "my_flying_car.land()"
      ],
      "metadata": {
        "id": "ZDYq0A3CGZEt"
      }
    },
    {
      "cell_type": "markdown",
      "source": [
        "19.  Explain the purpose of \"__str__\" and \"__repr__\" methods in Python?\n",
        "\n",
        "-> 1. __str__ (for \"string\"):\n",
        "The __str__ method is designed to be the official string representation of an object, intended for end-users. It is called by built-in functions like str(), print(), and format(). The output should be easy to read and understand, summarizing the object's key information.\n",
        "\n",
        "e.g. If a class represents a person, __str__ might return \"John Doe, age 30\".\n",
        "\n",
        "2. __repr__ (for \"representation\")\n",
        "The __repr__ method is meant for developers and debugging. Its goal is to create an unambiguous representation of the object, preferably one that could be used to recreate the object exactly. It's the \"official\" representation.\n",
        "\n",
        "e.g. If a class represents a point on a coordinate plane, __repr__ might return Point(x=10, y=20). This format is useful because it clearly shows the object's state and could be directly used in code to create a new, identical object.\n",
        "\n",
        "Example:\n",
        "\n",
        "class Point:\n",
        "\n",
        "    def __init__(self, x, y):\n",
        "        self.x = x\n",
        "        self.y = y\n",
        "\n",
        "    # For developers and debugging\n",
        "    def __repr__(self):\n",
        "        return f\"Point(x={self.x}, y={self.y})\"\n",
        "\n",
        "    # For end-users\n",
        "    def __str__(self):\n",
        "        return f\"({self.x}, {self.y})\"\n",
        "\n",
        "p = Point(10, 20)\n",
        "\n",
        "The default behavior of print() uses __str__\n",
        "\n",
        "print(p)\n",
        "\n",
        "Output: (10, 20)\n",
        "\n",
        "Calling repr() or using a debugger uses __repr__\n",
        "\n",
        "print(repr(p))\n",
        "\n",
        "Output: Point(x=10, y=20)"
      ],
      "metadata": {
        "id": "HIUX7pYRHQhE"
      }
    },
    {
      "cell_type": "markdown",
      "source": [
        "20. What is the significance of the ‘super()’ function in Python?\n",
        "\n",
        "-> The super() function in Python is a built-in function that provides a way to call a method from the parent or ancestor class. Its main significance lies in its role in implementing inheritance and ensuring proper initialization and method overriding in a class hierarchy.\n",
        "\n",
        "Importance of Super():\n",
        "\n",
        "1. Ensures Proper Initialization: It makes sure that the parent class's constructor is executed, so the inherited attributes are correctly set up. This is crucial in complex inheritance hierarchies.\n",
        "\n",
        "2. Facilitates Method Overriding: It allows a child class to override a parent method while still being able to call the parent's implementation of that method. This is useful for extending functionality rather than completely replacing it.\n",
        "\n",
        "3. Works with Multiple Inheritance: In complex scenarios with multiple inheritance, super() intelligently follows the Method Resolution Order (MRO) to find the correct method to call in the hierarchy. This helps prevent bugs and ensures a predictable flow of execution. Without super(), we would have to manually call each parent's method, which can get complicated and lead to errors if the hierarchy changes.\n",
        "\n"
      ],
      "metadata": {
        "id": "99k_ZSnQIhZt"
      }
    },
    {
      "cell_type": "markdown",
      "source": [
        "21.  What is the significance of the __del__ method in Python?\n",
        "\n",
        "->   The __del__ method, also known as the destructor, is a special method in a Python class that's called when an object is about to be destroyed or garbage collected. Its primary purpose is to perform cleanup actions.\n",
        "\n",
        "e.g.\n",
        "\n",
        "class MyClass:\n",
        "\n",
        "    def __init__(self, name):\n",
        "        self.name = name\n",
        "        print(f\"{self.name} object created.\")\n",
        "\n",
        "    def __del__(self):\n",
        "        print(f\"{self.name} object destroyed.\")\n",
        "\n",
        "Create an object\n",
        "\n",
        "obj = MyClass(\"Object A\")\n",
        "\n",
        "del obj"
      ],
      "metadata": {
        "id": "Vfq4JYRoMnXM"
      }
    },
    {
      "cell_type": "markdown",
      "source": [
        "22. What is the difference between @staticmethod and @classmethod in Python?\n",
        "\n",
        "-> In Python, both @staticmethod and @classmethod are decorators used to define methods within a class that don't require an instance of the class to be called. However, they differ in what they can access and their primary purpose.\n",
        "\n",
        "1. @staticmethod\n",
        "\n",
        "-> Syntax: @staticmethod\n",
        "\n",
        "-> First Argument: None. It's just like a normal function.\n",
        "\n",
        "-> Purpose: To define utility or helper functions that are related to a class but don't need any access to the class's data or methods.\n",
        "\n",
        "e.g.\n",
        "\n",
        "class MathOperations:\n",
        "\n",
        "    @staticmethod\n",
        "    def add(x, y):\n",
        "        return x + y\n",
        "\n",
        "result = MathOperations.add(5, 10)\n",
        "\n",
        "print(result)  # Output: 15\n",
        "\n",
        "2. @classmethod:\n",
        "\n",
        "-> Syntax: @classmethod\n",
        "\n",
        "-> First Argument: cls (the class itself).\n",
        "\n",
        "-> Purpose: To access or modify class attributes or to create an object in a different way (e.g., from a different data format).\n",
        "\n",
        "e.g.\n",
        "\n",
        "class Car:\n",
        "\n",
        "    wheels = 4  # This is a class attribute\n",
        "\n",
        "    @classmethod\n",
        "    def change_wheels(cls, new_wheels):\n",
        "        cls.wheels = new_wheels\n",
        "\n",
        "        print(f\"Number of wheels: {Car.wheels}\")\n",
        "\n",
        "        Car.change_wheels(6)\n",
        "\n",
        "        print(f\"Number of wheels after change: {Car.wheels}\") # Output: 6"
      ],
      "metadata": {
        "id": "jEYMtX4MOBvU"
      }
    },
    {
      "cell_type": "markdown",
      "source": [
        "23.  How does polymorphism work in Python with inheritance?\n",
        "\n",
        "-> Polymorphism works with inheritance in Python by allowing a method to be called on an object without needing to know its specific class, as long as the object is from a class that shares a common parent. This is achieved through method overriding.\n",
        "\n",
        "e.g.\n",
        "\n",
        "\n",
        "class Vehicle:\n",
        "\n",
        "    def start_engine(self):\n",
        "        print(\"Vehicle engine starts with a generic sound.\")\n",
        "\n",
        "    class Car(Vehicle):\n",
        "    def start_engine(self):\n",
        "        print(\"The car engine roars to life.\")\n",
        "\n",
        "    class Motorcycle(Vehicle):\n",
        "    def start_engine(self):\n",
        "        print(\"The motorcycle engine vrooms to life.\")\n",
        "\n",
        "    def get_ready_to_ride(vehicle):\n",
        "    vehicle.start_engine()\n",
        "\n",
        "    my_car = Car()\n",
        "    my_motorcycle = Motorcycle()\n",
        "\n",
        "    get_ready_to_ride(my_car)\n",
        "\n",
        "    Output: The car engine roars to life.\n",
        "\n",
        "    get_ready_to_ride(my_motorcycle)\n",
        "\n",
        "    Output: The motorcycle engine vrooms to life.\n",
        "\n",
        "\n",
        "\n",
        "\n",
        "\n",
        "\n",
        "\n",
        "\n",
        "\n",
        "\n",
        "\n",
        "\n",
        "\n",
        "\n",
        "\n",
        "        \n",
        "\n",
        "\n",
        "\n",
        "\n",
        "\n"
      ],
      "metadata": {
        "id": "3dXSUKG7PfDU"
      }
    },
    {
      "cell_type": "markdown",
      "source": [
        "24. What is method chaining in Python OOP?\n",
        "\n",
        "-> Method chaining is a programming technique that allows you to call multiple methods on an object in a single, continuous line of code. It works by having each method return a reference to the same object, so the next method call can operate on it.\n",
        "\n",
        "\n",
        "This technique, also known as cascading, makes code more concise and readable, especially when performing a series of operations on an object.\n",
        "\n",
        "Advantages of Method Chaining:\n",
        "\n",
        "1. Concise and Readable Code: It reduces the number of lines of code and makes the sequence of operations clear at a glance\n",
        "\n",
        "2. Fluent Interface: It creates a \"fluent\" or \"fluent API\" where the code reads like a sentence, improving its expressiveness\n",
        "\n",
        "3. Reduced Temporary Variables: It eliminates the need for temporary variables to hold intermediate results\n",
        "\n",
        "Method chaining is a common pattern in Python libraries like Pandas, which makes data manipulation operations clean and intuitive.\n"
      ],
      "metadata": {
        "id": "NhEaqDVeQxzN"
      }
    },
    {
      "cell_type": "markdown",
      "source": [
        "25. What is the purpose of the __call__ method in Python?\n",
        "\n",
        "-> The __call__ method in Python is a special method that allows an object to be treated and called like a function. When you define __call__ in a class, you can use the instance of that class as if it were a regular function.\n",
        "\n",
        "Purpose of __call__ method:\n",
        "\n",
        "1. Stateful Decorators: A class with a __call__ method can act as a decorator that maintains a state across multiple function calls\n",
        "\n",
        "2. Custom Callable Objects: It's used to create objects that perform a specific action when called, while keeping the related data and logic encapsulated within the class.\n",
        "\n",
        "3. Function-like Objects: When a function's logic is complex and involves multiple methods, we can put it in a class and use __call__ to provide a clean, single-entry point.\n",
        "\n",
        "e.g.\n",
        "\n",
        "class Counter:\n",
        "\n",
        "    def __init__(self):\n",
        "        self.count = 0\n",
        "\n",
        "    def __call__(self):\n",
        "        self.count += 1\n",
        "        print(f\"The current count is {self.count}\")\n",
        "\n",
        "    my_counter = Counter()\n",
        "\n",
        "    my_counter()  # Output: The current count is 1\n",
        "\n",
        "    my_counter()  # Output: The current count is 2\n",
        "\n",
        "    my_counter()  # Output: The current count is 3\n",
        "\n"
      ],
      "metadata": {
        "id": "Ja2mACJdRTHr"
      }
    },
    {
      "cell_type": "markdown",
      "source": [
        "## Practical Questions"
      ],
      "metadata": {
        "id": "2lJeYdlpSN4b"
      }
    },
    {
      "cell_type": "code",
      "source": [
        "# 1 Create a parent class Animal with a method speak() that prints a generic message.\n",
        "#Create a child class Dog that overrides the speak() method to print \"Bark!\".\n",
        "\n",
        "class Animal:\n",
        "  def speak(self):\n",
        "    print(\"Animal speaks\")\n",
        "\n",
        "class Dog(Animal):\n",
        "  def speak(self):\n",
        "    print(\"Bark!\")\n",
        "\n",
        "\n",
        "dog = Dog()\n",
        "dog.speak()"
      ],
      "metadata": {
        "colab": {
          "base_uri": "https://localhost:8080/"
        },
        "id": "mNi6hx13rFjj",
        "outputId": "1985e7bc-0ee8-4930-ad22-9725512c2244"
      },
      "execution_count": null,
      "outputs": [
        {
          "output_type": "stream",
          "name": "stdout",
          "text": [
            "Bark!\n"
          ]
        }
      ]
    },
    {
      "cell_type": "code",
      "source": [
        "# 2  Write a program to create an abstract class Shape with a method area(). Derive classes Circle and Rectangle\n",
        "# from it and implement the area() method in both\n",
        "\n",
        "import math\n",
        "from abc import ABC, abstractmethod\n",
        "\n",
        "class shape(ABC):\n",
        "\n",
        "  @abstractmethod\n",
        "  def area(self):\n",
        "    pass\n",
        "\n",
        "class circle(shape):\n",
        "  def __init__(self, radius):\n",
        "    if radius <= 0:\n",
        "      raise ValueError (\"Radius can not be negative\")\n",
        "\n",
        "    self.radius = radius\n",
        "\n",
        "  def area(self):\n",
        "    return math.pi * (self.radius ** 2)\n",
        "\n",
        "class rectangle(shape):\n",
        "  def __init__(self, height, width):\n",
        "    if height <= 0 or width <= 0:\n",
        "      raise ValueError (\"Length & Width cannot be negative\")\n",
        "\n",
        "    self.height = height\n",
        "    self.width = width\n",
        "\n",
        "  def area(self):\n",
        "    return self.height * self.width\n",
        "\n",
        "\n",
        "c = circle(5)\n",
        "c.area()\n",
        "print(\"The area of circle with radius 5 is\", c.area())\n",
        "\n",
        "r = rectangle(5, 10)\n",
        "r.area()\n",
        "print(\"The area of rectangle with height 5 and width 10 is\", r.area())"
      ],
      "metadata": {
        "colab": {
          "base_uri": "https://localhost:8080/"
        },
        "id": "kWzwU3sQsZYn",
        "outputId": "677c0ddf-61e6-47e6-f1e5-3ff89efcd03f"
      },
      "execution_count": null,
      "outputs": [
        {
          "output_type": "stream",
          "name": "stdout",
          "text": [
            "The area of circle with radius 5 is 78.53981633974483\n",
            "The area of rectangle with height 5 and width 10 is 50\n"
          ]
        }
      ]
    },
    {
      "cell_type": "code",
      "source": [
        "# 3. Implement a multi-level inheritance scenario where a class Vehicle has an attribute type. Derive a class Car\n",
        "# and further derive a class ElectricCar that adds a battery attribute\n",
        "\n",
        "class Vehicle:\n",
        "  def __init__(self, type):\n",
        "    self.type = type\n",
        "\n",
        "\n",
        "class car(Vehicle):\n",
        "  def __init__(self, type, make, model):\n",
        "    super().__init__(type)\n",
        "    self.make = make\n",
        "    self.model = model\n",
        "\n",
        "class ElectricCar(car):\n",
        "  def __init__(self, type, make, model, battery_capacity):\n",
        "    super().__init__(type, make, model)\n",
        "    self.battery_capacity = battery_capacity\n",
        "\n",
        "elctric_car = ElectricCar(\"Four Wheeler\", \"Tesla\", \"Model S\", 75)\n",
        "print(elctric_car.type)\n",
        "print(elctric_car.make)\n",
        "print(elctric_car.model)\n",
        "print(elctric_car.battery_capacity)"
      ],
      "metadata": {
        "colab": {
          "base_uri": "https://localhost:8080/"
        },
        "id": "ejG0nVpbxYKo",
        "outputId": "8776c919-c4bc-40fa-f8e6-a59c38c7347d"
      },
      "execution_count": null,
      "outputs": [
        {
          "output_type": "stream",
          "name": "stdout",
          "text": [
            "Four Wheeler\n",
            "Tesla\n",
            "Model S\n",
            "75\n"
          ]
        }
      ]
    },
    {
      "cell_type": "code",
      "source": [
        "# 4. Demonstrate polymorphism by creating a base class Bird with a method fly(). Create two derived classes\n",
        "# Sparrow and Penguin that override the fly() method.\n",
        "\n",
        "class bird:\n",
        "  def fly(self):\n",
        "    print(\"I can fly\")\n",
        "\n",
        "class sparrow(bird):\n",
        "  def fly(self):\n",
        "    print(\"I'm a sparrow, I can flit from branch to branch\")\n",
        "\n",
        "class penguin(bird):\n",
        "  def fly(self):\n",
        "    print(\"I'm a penguin, I can't fly\")\n",
        "\n",
        "def make_bird_fly(bird):\n",
        "  bird.fly()\n",
        "\n",
        "sparrow = sparrow()\n",
        "penguin = penguin()\n",
        "\n",
        "make_bird_fly(sparrow)\n",
        "make_bird_fly(penguin)"
      ],
      "metadata": {
        "colab": {
          "base_uri": "https://localhost:8080/"
        },
        "id": "YhrGxsQf3DNy",
        "outputId": "f41dab38-3851-48ec-ee4b-c9ff828a10e7"
      },
      "execution_count": null,
      "outputs": [
        {
          "output_type": "stream",
          "name": "stdout",
          "text": [
            "I'm a sparrow, I can flit from branch to branch\n",
            "I'm a penguin, I can't fly\n"
          ]
        }
      ]
    },
    {
      "cell_type": "code",
      "source": [
        "# 5. Write a program to demonstrate encapsulation by creating a class BankAccount with private attributes\n",
        "# balance and methods to deposit, withdraw, and check balance.\n",
        "\n",
        "class bank:\n",
        "  def __init__(self, balance):\n",
        "    self.__balance = balance\n",
        "\n",
        "  def deposit(self, amount):\n",
        "    self.__balance += amount\n",
        "    print(\"Account is credited with\", amount)\n",
        "    print(\"Your available balance is\", self.__balance)\n",
        "\n",
        "  def withdraw(self, amount):\n",
        "    if amount > self.__balance:\n",
        "      print(\"Withdrawn amount has exceeded available balance limit\")\n",
        "\n",
        "    else:\n",
        "      self.__balance -= amount\n",
        "      print(\"Account is debited with\", amount)\n",
        "      print(\"Your available balance is\", self.__balance)\n",
        "\n",
        "  def check_balance(self):\n",
        "    if self.__balance == 0:\n",
        "      print(\"Your account is empty\")\n",
        "\n",
        "    else:\n",
        "      print(\"Available account balance is\", self.__balance)\n",
        "\n",
        "\n",
        "\n",
        "account = bank(1000)\n",
        "account.deposit(500)\n",
        "account.withdraw(200)\n",
        "account.check_balance()\n",
        "account.withdraw(2000)\n",
        "account.withdraw(1300)\n",
        "account.check_balance()"
      ],
      "metadata": {
        "colab": {
          "base_uri": "https://localhost:8080/"
        },
        "id": "SkUmW00c6-7T",
        "outputId": "0c9b8a7e-cc55-467e-cd80-15d03f207faf"
      },
      "execution_count": null,
      "outputs": [
        {
          "output_type": "stream",
          "name": "stdout",
          "text": [
            "Account is credited with 500\n",
            "Your available balance is 1500\n",
            "Account is debited with 200\n",
            "Your available balance is 1300\n",
            "Available account balance is 1300\n",
            "Withdrawn amount has exceeded available balance limit\n",
            "Account is debited with 1300\n",
            "Your available balance is 0\n",
            "Your account is empty\n"
          ]
        }
      ]
    },
    {
      "cell_type": "code",
      "source": [
        "# 6.  Demonstrate runtime polymorphism using a method play() in a base class Instrument. Derive classes Guitar\n",
        "# and Piano that implement their own version of play().\n",
        "\n",
        "class instrument():\n",
        "  def play(self):\n",
        "    print(\"Instrumnet is playing\")\n",
        "\n",
        "class guitar(instrument):\n",
        "  def play(self):\n",
        "    print(\"Strumming the guitar strings.\")\n",
        "\n",
        "class piano(instrument):\n",
        "  def play(self):\n",
        "    print(\"Pressing the piano keys\")\n",
        "\n",
        "def play_instrumnet(instrument):\n",
        "  instrument.play()\n",
        "\n",
        "piano = piano()\n",
        "guitar = guitar()\n",
        "\n",
        "print(\"Demonstrating Polymorphism: \")\n",
        "\n",
        "play_instrumnet(piano)\n",
        "play_instrumnet(guitar)\n"
      ],
      "metadata": {
        "colab": {
          "base_uri": "https://localhost:8080/"
        },
        "id": "9EsTMa929m8W",
        "outputId": "22d0304a-167d-4deb-eb4a-c9c8265aba5b"
      },
      "execution_count": null,
      "outputs": [
        {
          "output_type": "stream",
          "name": "stdout",
          "text": [
            "Demonstrating Polymorphism: \n",
            "Pressing the piano keys\n",
            "Strumming the guitar strings.\n"
          ]
        }
      ]
    },
    {
      "cell_type": "code",
      "source": [
        "# 7.  Create a class MathOperations with a class method add_numbers() to add two numbers and a static\n",
        "# method subtract_numbers() to subtract two numbers.\n",
        "\n",
        "class MathOperations:\n",
        "  def __init__(self, num1, num2):\n",
        "    self.num1 = num1\n",
        "    self.num2 - num2\n",
        "\n",
        "  @classmethod\n",
        "  def add_numbers(cls, num1, num2):\n",
        "    print(\"The sum of numbers using class method\")\n",
        "    return num1 + num2\n",
        "\n",
        "  @staticmethod\n",
        "  def subtract_numbers(num1, num2):\n",
        "    print(\"The difference of numbers using static method\")\n",
        "    return num1 - num2\n",
        "\n",
        "\n",
        "sum_result = MathOperations.add_numbers(10, 20)\n",
        "print(sum_result)\n",
        "\n",
        "diff_result = MathOperations.subtract_numbers(20, 10)\n",
        "print(diff_result)"
      ],
      "metadata": {
        "colab": {
          "base_uri": "https://localhost:8080/"
        },
        "id": "OT931nwIBzmW",
        "outputId": "617754be-0a83-4a6a-d310-c9a5a6e590db"
      },
      "execution_count": null,
      "outputs": [
        {
          "output_type": "stream",
          "name": "stdout",
          "text": [
            "The sum of numbers using class method\n",
            "30\n",
            "The difference of numbers using static method\n",
            "10\n"
          ]
        }
      ]
    },
    {
      "cell_type": "code",
      "metadata": {
        "colab": {
          "base_uri": "https://localhost:8080/"
        },
        "id": "ada2daf8",
        "outputId": "28f2e988-6f8a-4a11-9da5-b56c4cc68aab"
      },
      "source": [
        "# 8. Implement a class Person with a class method to count the total number of persons created.\n",
        "\n",
        "class Person:\n",
        "  total_person_created = 0\n",
        "\n",
        "  def __init__(self, name):\n",
        "    self.name = name\n",
        "    Person.total_person_created += 1\n",
        "    print(f\"Hello, I am {self.name}! I just got created.\")\n",
        "    print(\"Total number of persons now\", Person.total_person_created)\n",
        "\n",
        "  @classmethod\n",
        "  def get_count(cls):\n",
        "    return cls.total_person_created\n",
        "\n",
        "print(\"Creating person 1\")\n",
        "person1 = Person(\"Alice\")\n",
        "\n",
        "print(\"Creating person 2\")\n",
        "person2 = Person(\"Bob\")\n",
        "\n",
        "print(\"Creating person 3\")\n",
        "person3 = Person(\"Charlie\")\n",
        "\n",
        "\n",
        "count = Person.get_count()\n",
        "print(\"Using our special method, the final count is\", count)"
      ],
      "execution_count": null,
      "outputs": [
        {
          "output_type": "stream",
          "name": "stdout",
          "text": [
            "Creating person 1\n",
            "Hello, I am Alice! I just got created.\n",
            "Total number of persons now 1\n",
            "Creating person 2\n",
            "Hello, I am Bob! I just got created.\n",
            "Total number of persons now 2\n",
            "Creating person 3\n",
            "Hello, I am Charlie! I just got created.\n",
            "Total number of persons now 3\n",
            "Using our special method, the final count is 3\n"
          ]
        }
      ]
    },
    {
      "cell_type": "code",
      "source": [
        "# 9.  Write a class Fraction with attributes numerator and denominator. Override the str method to display the\n",
        "# fraction as \"numerator/denominator\".\n",
        "\n",
        "class fraction:\n",
        "  def __init__(self, numerator, denominator):\n",
        "    self.numerator = numerator\n",
        "    self.denominator = denominator\n",
        "\n",
        "  def __str__(self):\n",
        "    return f\"{self.numerator}/{self.denominator}\"\n",
        "\n",
        "fraction1 = fraction(3, 4)\n",
        "print(fraction1)\n",
        "\n",
        "fraction2 = fraction(5,6)\n",
        "print(fraction2)"
      ],
      "metadata": {
        "colab": {
          "base_uri": "https://localhost:8080/"
        },
        "id": "7IN2OlhtInam",
        "outputId": "a4b4beab-1a3d-4024-b817-057748ada798"
      },
      "execution_count": null,
      "outputs": [
        {
          "output_type": "stream",
          "name": "stdout",
          "text": [
            "3/4\n",
            "5/6\n"
          ]
        }
      ]
    },
    {
      "cell_type": "code",
      "source": [
        "# 10. Demonstrate operator overloading by creating a class Vector and overriding the add method to add two vectors.\n",
        "\n",
        "class Vector:\n",
        "  def __init__(self, x, y):\n",
        "    self.x = x\n",
        "    self.y = y\n",
        "\n",
        "  def __str__(self):\n",
        "    return f\"({self.x}, {self.y})\"\n",
        "\n",
        "  def __add__(self, other):\n",
        "    new_x = self.x + other.x\n",
        "    new_y = self.y + other.y\n",
        "\n",
        "    return Vector(new_x, new_y)\n",
        "\n",
        "Vector_1 = Vector(1,2)\n",
        "Vector_2 = Vector(4,5)\n",
        "\n",
        "print(f\"Vector 1: {Vector_1}\")\n",
        "print(f\"Vector 2: {Vector_2}\")\n",
        "\n",
        "New_Vector = Vector_1 + Vector_2\n",
        "\n",
        "print(\"Adding the two Vectors\")\n",
        "print(f\"{Vector_1} + {Vector_2} = {New_Vector}\")"
      ],
      "metadata": {
        "colab": {
          "base_uri": "https://localhost:8080/"
        },
        "id": "25G406yPKgdi",
        "outputId": "1ab6ffdb-ffb0-4d0a-996f-8dfa0632bb2a"
      },
      "execution_count": null,
      "outputs": [
        {
          "output_type": "stream",
          "name": "stdout",
          "text": [
            "Vector 1: (1, 2)\n",
            "Vector 2: (4, 5)\n",
            "Adding the two Vectors\n",
            "(1, 2) + (4, 5) = (5, 7)\n"
          ]
        }
      ]
    },
    {
      "cell_type": "code",
      "source": [
        "# 11.  Create a class Person with attributes name and age. Add a method greet() that prints \"Hello, my name is {name} and I am {age} years old.\"\n",
        "\n",
        "class Person:\n",
        "  def greet(self, name, age):\n",
        "    self.name = name\n",
        "    self.age = age\n",
        "    print(f\"Hello, my anme is {name} and I am {age} years old\")\n",
        "\n",
        "name = ((input(\"Enter your name: \")))\n",
        "age  = (int(input(\"Enter your age: \")))\n",
        "\n",
        "person = Person()\n",
        "person.greet(name, age)"
      ],
      "metadata": {
        "colab": {
          "base_uri": "https://localhost:8080/"
        },
        "id": "hIIaWpypTsLY",
        "outputId": "abc3cd10-b5b3-40c2-9232-36f38502a011"
      },
      "execution_count": null,
      "outputs": [
        {
          "output_type": "stream",
          "name": "stdout",
          "text": [
            "Enter your name: Mohima Dey\n",
            "Enter your age: 22\n",
            "Hello, my anme is Mohima Dey and I am 22 years old\n"
          ]
        }
      ]
    },
    {
      "cell_type": "code",
      "source": [
        "# 12. Implement a class Student with attributes name and grades. Create a method average_grade() to compute the average of the grades.\n",
        "\n",
        "class student:\n",
        "  def __init__(self, name, grades):\n",
        "    self.name = name\n",
        "    self.grades = grades\n",
        "\n",
        "  def average_grade(self):\n",
        "    if not self.grades:\n",
        "      return 0\n",
        "    return sum(self.grades)/ len(self.grades)\n",
        "\n",
        "\n",
        "Rama = student(\"Rama\", [75, 85, 55, 78])\n",
        "Shyama = student(\"Shyama\", [78, 45, 58, 45])\n",
        "Radha = student(\"Radha\", [98, 78, 88, 79])\n",
        "\n",
        "print(f\"The average grade of {Rama.name} is {Rama.average_grade()}\")\n",
        "print(f\"The average grade of {Shyama.name} is {Shyama.average_grade()}\")\n",
        "print(f\"The average grade of {Radha.name} is {Radha.average_grade()}\")\n",
        "\n",
        "\n"
      ],
      "metadata": {
        "id": "WR04cF6iWdYP",
        "colab": {
          "base_uri": "https://localhost:8080/"
        },
        "outputId": "c5fccb30-f70b-4ed2-9d81-1628fc718a0f"
      },
      "execution_count": 3,
      "outputs": [
        {
          "output_type": "stream",
          "name": "stdout",
          "text": [
            "The average grade of Rama is 73.25\n",
            "The average grade of Shyama is 56.5\n",
            "The average grade of Radha is 85.75\n"
          ]
        }
      ]
    },
    {
      "cell_type": "code",
      "source": [
        "# 13.  Create a class Rectangle with methods set_dimensions() to set the dimensions and area() to calculate the area\n",
        "\n",
        "class Rectangle:\n",
        "  def __init__(self):\n",
        "    self.width = 0\n",
        "    self.height = 0\n",
        "\n",
        "  def set_dimensions(self, width, height):\n",
        "    self.width = width\n",
        "    self.height = height\n",
        "\n",
        "    if width >= 0 and height >= 0:\n",
        "      self.width = width\n",
        "      self.height = height\n",
        "\n",
        "    else:\n",
        "      print(\"Error: Width and height can not be negative\")\n",
        "\n",
        "  def area(self):\n",
        "    return self.width * self.height\n",
        "\n",
        "my_rectangle = Rectangle()\n",
        "my_rectangle.set_dimensions(25, 35)\n",
        "print(f\"The height of the rechtangle is {my_rectangle.height} and the width is {my_rectangle.width}\")\n",
        "print(f\"The area of the rectangle is {my_rectangle.area()}\")"
      ],
      "metadata": {
        "colab": {
          "base_uri": "https://localhost:8080/"
        },
        "id": "ZOoIExG0qwsY",
        "outputId": "c2c07992-18e1-4cc3-8078-c1ba6511a991"
      },
      "execution_count": 6,
      "outputs": [
        {
          "output_type": "stream",
          "name": "stdout",
          "text": [
            "The height of the rechtangle is 35 and the width is 25\n",
            "The area of the rectangle is 875\n"
          ]
        }
      ]
    },
    {
      "cell_type": "code",
      "source": [
        "# 14.  Create a class Employee with a method calculate_salary() that computes the salary based on hours worked\n",
        "# and hourly rate. Create a derived class Manager that adds a bonus to the salary\n",
        "\n",
        "class Employee:\n",
        "  def __init__(self, hours_worked, hourly_rate):\n",
        "    self.hourly_rate = hourly_rate\n",
        "    self.hours_worked = hours_worked\n",
        "\n",
        "  def calculate_salary(self):\n",
        "    return self.hours_worked * self.hourly_rate\n",
        "\n",
        "class Manager(Employee):\n",
        "  def __init__(self, hours_worked, hourly_rate, bonus):\n",
        "    super().__init__(hours_worked, hourly_rate)\n",
        "    self.bonus = bonus\n",
        "\n",
        "  def calculate_salary(self):\n",
        "    base_salary = super().calculate_salary()\n",
        "    return base_salary + self.bonus\n",
        "\n",
        "employee = Employee(hours_worked = 45, hourly_rate = 30)\n",
        "print(f\"Employee's salary: {employee.calculate_salary()}\")\n",
        "\n",
        "\n",
        "manager = Manager(hours_worked = 45, hourly_rate = 50, bonus = 1000)\n",
        "print(f\"Manager's salary before bonus: {manager.hourly_rate * manager.hours_worked}\")\n",
        "print(f\"Manager's salary after bonus: {manager.calculate_salary()}\")"
      ],
      "metadata": {
        "colab": {
          "base_uri": "https://localhost:8080/"
        },
        "id": "51XNkGbvukYk",
        "outputId": "494aea82-6098-41db-f99f-0bec33505175"
      },
      "execution_count": 13,
      "outputs": [
        {
          "output_type": "stream",
          "name": "stdout",
          "text": [
            "Employee's salary: 1350\n",
            "Manager's salary before bonus: 2250\n",
            "Manager's salary after bonus: 3250\n"
          ]
        }
      ]
    },
    {
      "cell_type": "code",
      "source": [
        "# 15. Create a class Product with attributes name, price, and quantity. Implement a method total_price() that\n",
        "# calculates the total price of the product.\n",
        "\n",
        "class Product:\n",
        "  def __init__(self, name, price, quantity):\n",
        "    self.name = name\n",
        "    self.price = price\n",
        "    self.quantity = quantity\n",
        "\n",
        "  def total_price(self):\n",
        "    return self.price * self.quantity\n",
        "\n",
        "item1 = Product(\"Laptop\", 50000, 10)\n",
        "item2 = Product(\"ipad\", 100000, 12)\n",
        "item3 = Product(\"Speaker\", 5000, 15)\n",
        "\n",
        "print(f\"The total price of {item1.name} is {item1.total_price()}\")\n",
        "print(f\"The total price of {item2.name} is {item2.total_price()}\")\n",
        "print(f\"The total price of {item3.name} is {item3.total_price()}\")"
      ],
      "metadata": {
        "colab": {
          "base_uri": "https://localhost:8080/"
        },
        "id": "w1hm3vsKy2H_",
        "outputId": "b2b45cfd-4606-4b66-d0b8-15a9fd28d8d7"
      },
      "execution_count": 14,
      "outputs": [
        {
          "output_type": "stream",
          "name": "stdout",
          "text": [
            "The total price of Laptop is 500000\n",
            "The total price of ipad is 1200000\n",
            "The total price of Speaker is 75000\n"
          ]
        }
      ]
    },
    {
      "cell_type": "code",
      "source": [
        "# 16.  Create a class Animal with an abstract method sound(). Create two derived classes Cow and Sheep that implement the sound() method.\n",
        "\n",
        "from abc import ABC, abstractmethod\n",
        "\n",
        "\n",
        "class Animal(ABC):\n",
        "  @abstractmethod\n",
        "  def sound(self):\n",
        "    pass\n",
        "\n",
        "class Cow(Animal):\n",
        "  def sound(self):\n",
        "    return \"Hamba\"\n",
        "\n",
        "class Sheep(Animal):\n",
        "  def sound(self):\n",
        "    return \"Baaa\"\n",
        "\n",
        "cow = Cow()\n",
        "print(f\"The cow says {cow.sound()}\")\n",
        "\n",
        "sheep = Sheep()\n",
        "print(f\"The sheep says {sheep.sound()}\")"
      ],
      "metadata": {
        "colab": {
          "base_uri": "https://localhost:8080/"
        },
        "id": "KKyi4ooc2IOO",
        "outputId": "eb114003-8fa4-4107-f93b-4602a59d195f"
      },
      "execution_count": 22,
      "outputs": [
        {
          "output_type": "stream",
          "name": "stdout",
          "text": [
            "The cow says Hamba\n",
            "The sheep says Baaa\n"
          ]
        }
      ]
    },
    {
      "cell_type": "code",
      "source": [
        "# 17.  Create a class Book with attributes title, author, and year_published. Add a method get_book_info() that\n",
        "# returns a formatted string with the book's details.\n",
        "\n",
        "class Book:\n",
        "  def __init__(self, title, author, year_published):\n",
        "    self.title = title\n",
        "    self.author = author\n",
        "    self.year_published = year_published\n",
        "\n",
        "  def get_book_info(self):\n",
        "    return f\"Book Title: {self.title}, Author: {self.author}, Published year: {self.year_published}\"\n",
        "\n",
        "\n",
        "Book_Details = Book(\"The Alchemist\", \"Paulo Coelho\", 1988)\n",
        "print(Book_Details.get_book_info())\n",
        "\n",
        "\n"
      ],
      "metadata": {
        "colab": {
          "base_uri": "https://localhost:8080/"
        },
        "id": "pJVm3Uxd3RUt",
        "outputId": "d8ea2337-5331-421f-d586-be9d207fddcd"
      },
      "execution_count": 23,
      "outputs": [
        {
          "output_type": "stream",
          "name": "stdout",
          "text": [
            "Book Title: The Alchemist, Author: Paulo Coelho, Published year: 1988\n"
          ]
        }
      ]
    },
    {
      "cell_type": "code",
      "source": [
        "# 18. Create a class House with attributes address and price. Create a derived class Mansion that adds an attribute number_of_rooms.\n",
        "\n",
        "class House:\n",
        "  def __init__(self, address, price):\n",
        "    self.address = address\n",
        "    self.price = price\n",
        "\n",
        "class Mansion(House):\n",
        "  def __init__(self, address, price, number_of_rooms):\n",
        "    super().__init__(address, price)\n",
        "    self.number_of_rooms = number_of_rooms\n",
        "\n",
        "house = House(\"Kolkata\", 100000)\n",
        "print(f\"House Address: {house.address}, Price of House: {house.price}\")\n",
        "\n",
        "mansion = Mansion(\"Darjeeling\", 500000, 10)\n",
        "print(f\"Mansion Address: {mansion.address}, Price of Mansion: {mansion.price}, Number of Rooms: {mansion.number_of_rooms}\")"
      ],
      "metadata": {
        "colab": {
          "base_uri": "https://localhost:8080/"
        },
        "id": "toxjbdgK5zp9",
        "outputId": "22afa50d-e99e-4a7a-b680-d5a456ea01e9"
      },
      "execution_count": 24,
      "outputs": [
        {
          "output_type": "stream",
          "name": "stdout",
          "text": [
            "House Address: Kolkata, Price of House: 100000\n",
            "Mansion Address: Darjeeling, Price of Mansion: 500000, Number of Rooms: 10\n"
          ]
        }
      ]
    }
  ]
}