{
  "nbformat": 4,
  "nbformat_minor": 0,
  "metadata": {
    "colab": {
      "provenance": []
    },
    "kernelspec": {
      "name": "python3",
      "display_name": "Python 3"
    },
    "language_info": {
      "name": "python"
    }
  },
  "cells": [
    {
      "cell_type": "markdown",
      "source": [
        "### Theory Questions"
      ],
      "metadata": {
        "id": "jS__tUDD036_"
      }
    },
    {
      "cell_type": "markdown",
      "source": [
        "1.  What are data structures, and why are they important?\n",
        "   -> Data structures are ways of organizing and storing data so that it can be accessed and modified efficiently. In Python, data structures help manage data in a clean, efficient, and logical manner.\n",
        "\n",
        "   Built-in Data Structures in Python:\n",
        "\n",
        "\n",
        "\n",
        "1.   List – Ordered, mutable collection (e.g., [1, 2, 3])\n",
        "2.   Tuple – Ordered, immutable collection (e.g., (1, 2, 3))\n",
        "3.   Set – Unordered, mutable collection of unique elements (e.g., {1, 2, 3})\n",
        "4.   Dictionary – Unordered collection of key-value pairs (e.g., {'a': 1, 'b': 2})\n",
        "\n",
        "\n",
        "Importance of Data Structures in Python:\n",
        "\n",
        "\n",
        "1.   Efficient Data Management: They help to store, access, and modify data quickly and efficiently.\n",
        "\n",
        "\n",
        "2.   Better Code Organization: Clean, readable code is easier to maintain and debug.\n",
        "\n",
        "3. Optimal Resource Use: The right data structure can reduce memory usage and increase performance.\n",
        "\n",
        "4. Foundation of Algorithms: Most algorithms rely on data structures to function properly.\n",
        "\n",
        "5. Real-world Problem Solving: Data structures model real-world relationships (e.g., calendars use lists).\n",
        "\n",
        "e.g. # Using a dictionary to store student grades\n",
        "\n",
        "grades = {\n",
        "    'Alice': 85,\n",
        "    'Bob': 92,\n",
        "    'Charlie': 78\n",
        "}\n",
        "\n",
        "print(grades['Bob'])  # Output: 92\n",
        "\n",
        "\n",
        "\n",
        "\n",
        "\n",
        "\n"
      ],
      "metadata": {
        "id": "447Zvv0h1EMu"
      }
    },
    {
      "cell_type": "markdown",
      "source": [
        "2. Explain the difference between mutable and immutable data types with examples?\n",
        "\n",
        "   -> In Python, mutable and immutable refer to whether or not an object can be changed after it's created.\n",
        "\n",
        "   -> Mutable Data Types: It simply means that the object/data can be changed after creation (the content can be modified).\n",
        "\n",
        "   Examples of mutable data types are List, Set, Dictionary.\n",
        "\n",
        "   e.g. list_1[1,2,3,4]\n",
        "        list_1[0] = 100\n",
        "        list_1\n",
        "        #output [100,2,3,4]\n",
        "\n",
        "\n",
        "   -> Immutable Data Types: It simply means that the object/data can not be changed after creation (the content can not be modified). If we try to change it, then a new content is created.\n",
        "\n",
        "   Examples of immutable data types are String, Tuple, Frozenset.\n",
        "\n",
        "  "
      ],
      "metadata": {
        "id": "tsmdiP795Hm-"
      }
    },
    {
      "cell_type": "code",
      "source": [
        "#e.g.\n",
        "\n",
        "a = 5\n",
        "print (id(a))\n",
        "\n",
        "a+=5\n",
        "print (id(a)) #ID is now different, because a new int object was created"
      ],
      "metadata": {
        "colab": {
          "base_uri": "https://localhost:8080/"
        },
        "id": "il7xsfY9hns5",
        "outputId": "9ca58b35-bf3d-4148-a67f-5cf2f7c3cbb8"
      },
      "execution_count": 4,
      "outputs": [
        {
          "output_type": "stream",
          "name": "stdout",
          "text": [
            "10757864\n",
            "10758024\n"
          ]
        }
      ]
    },
    {
      "cell_type": "markdown",
      "source": [
        "3. What are the main differences between lists and tuples in Python?\n",
        "\n",
        "   -> Lists:\n",
        "\n",
        "\n",
        "\n",
        "1.   Mutable Data Structures\n",
        "2.   Being nutable, it has a lot of function like, \"append\", \"insert\", \"pop\" to modify the data.\n",
        "3. It uses more memory space in python as there is an auto generation of extended lists in the memory each time we work with a list.\n",
        "4. Due to mutability, it is slower.\n",
        "5. It should be used when working with dynamic data that needs constant change.\n",
        "\n",
        "-> Tuples:\n",
        "\n",
        "\n",
        "1.   Immutable Data Structures.\n",
        "2.   Being immutable, it has only two funtions \"count\" & \"index\".\n",
        "3. It uses less memory space as there is no auto generation occurs.\n",
        "4. Due to immutability, it is faster.\n",
        "5. It can be used when no change in data is required.\n",
        "\n",
        "\n",
        "\n",
        "             \n"
      ],
      "metadata": {
        "id": "m88DUgeGgMUv"
      }
    },
    {
      "cell_type": "markdown",
      "source": [
        " 4. Describe how dictionaries store data.\n",
        "\n",
        "    -> In Python, a dictionary stores data as a collection of key:value pairs, allowing for fast and flexible data lookup.\n",
        "\n",
        "    Structure of a Dictionary:\n",
        "\n",
        "    my_dict = {\n",
        "    \"name\": \"Mohima\",\n",
        "    \"age\": 22,\n",
        "    \"city\": \"Kolkata\"\n",
        "}\n",
        "\n",
        "\n",
        "\n",
        "1.   \"name\", \"age\", and \"city\" are keys.\n",
        "2.   \"Mohima\", 22, and \"Kolkata\" are the corresponding values\n",
        "3. Each key is unique and points to a value.\n",
        "\n",
        "How Python Stores Dictionary Data:\n",
        "\n",
        "\n",
        "\n",
        "1.   Hashing: When we insert a key, Python runs it through a hash function to generate a hash value (a number).\n",
        "2.   Indexing: That hash value determines where the key:value pair is stored in memory (like finding a shelf in a warehouse).\n",
        "3. Fast Lookup: When we access a key, Python hashes it again and goes directly to its memory slot — very fast!\n",
        "\n",
        "In Dictionaries:\n",
        "\n",
        "\n",
        "1.   Keys\tmust be immutable (e.g., str, int, tuple)\n",
        "2.   Values\tcan be any Python object\n",
        "3. Dictionaries are mutable\n",
        "\n",
        "\n",
        "\n",
        "\n",
        "\n",
        "\n",
        "\n"
      ],
      "metadata": {
        "id": "_zLS7bDHplmL"
      }
    },
    {
      "cell_type": "markdown",
      "source": [
        "5. Why might you use a set instead of a list in Python?\n",
        "\n",
        "   -> Both lists and sets are mutable data structures.\n",
        "\n",
        "   Sets might be used in cases instead of list when:\n",
        "\n",
        "\n",
        "1.   Duplicate values aren't required\n",
        "2.   Fast membership testing is needed (Python uses a hash table behind the scenes, so it can jump directly to the item — no scanning needed)\n",
        "3. Performing set operations like union, intersection, difference are essential\n",
        "\n",
        "Also sets should not be used when:\n",
        "\n",
        "\n",
        "1.   Indexing is needed\n",
        "2.   Working with duplicates\n",
        "3. Ordered objects are in demand\n",
        "\n",
        "\n",
        "e.g.\n",
        "\n",
        "my_list = [1, 2, 2, 3, 4, 4]\n",
        "\n",
        "\n",
        "unique_items = set(my_list)\n",
        "\n",
        "print(unique_items)  \n",
        "Output: {1, 2, 3, 4}\n",
        "\n",
        "\n"
      ],
      "metadata": {
        "id": "qVP8j7MBsUUb"
      }
    },
    {
      "cell_type": "markdown",
      "source": [
        "6. What is a string in Python, and how is it different from a list?\n",
        "\n",
        "   -> String in python is referred to a data type & data structure. It is a sequence of characters, used to store text data.\n",
        "\n",
        "   Defined using quotes: single '...', double \"...\", or triple '''...'''\n",
        "\n",
        "   e.g. my_string = \"Hello, World!\"\n",
        "\n",
        "\n",
        "   -> Key Properties of Strings:\n",
        "\n",
        "\n",
        "1.   Strings are immutable\n",
        "2.   Indexing is possible (e.g. my_string[0])\n",
        "3. Slicing is possible (e.g. my_string[0:5])\n",
        "4. Iteration can be done\n",
        "\n",
        "-> List is another data structure in python, with mutability feature.\n",
        "\n",
        "Difference between String & Lists:\n",
        "\n",
        "\n",
        "\n",
        "1.   String is immutable, list is mutable\n",
        "2.   String contains \"text\" data type only, list contains \"heterogenous\" data types (float, str, int etc)\n",
        "3.  String has text elements only, list can have mixed type of elements.\n",
        "4. String can't be modified, e.g. (my_str[0] = \"H\" -> Error), list can be modified (my_list[0] = \"H\" -> Works)\n",
        "\n",
        "Usage:\n",
        "\n",
        "\n",
        "\n",
        "1.   String is used when working with text that shouldn't change.\n",
        "2.   List is used when there is a need to manipulate individual elements (add, change, or remove).\n",
        "\n",
        "\n",
        "\n",
        "\n",
        "\n",
        "\n",
        "\n",
        "\n",
        "\n",
        "\n",
        "\n",
        "\n",
        "\n",
        "\n",
        "\n"
      ],
      "metadata": {
        "id": "MOYKCJDnxYsS"
      }
    },
    {
      "cell_type": "code",
      "source": [
        "#e.g.\n",
        "\n",
        "str_1= (\"hello\")\n",
        "print(str_1[0])\n",
        "str_1[0] = \"H\"\n",
        "print(str_1)\n"
      ],
      "metadata": {
        "colab": {
          "base_uri": "https://localhost:8080/",
          "height": 211
        },
        "id": "XDIRoEbv56yE",
        "outputId": "2e3ab508-c4cc-4394-f70d-7ff8a8bc247f"
      },
      "execution_count": 14,
      "outputs": [
        {
          "output_type": "stream",
          "name": "stdout",
          "text": [
            "h\n"
          ]
        },
        {
          "output_type": "error",
          "ename": "TypeError",
          "evalue": "'str' object does not support item assignment",
          "traceback": [
            "\u001b[0;31m---------------------------------------------------------------------------\u001b[0m",
            "\u001b[0;31mTypeError\u001b[0m                                 Traceback (most recent call last)",
            "\u001b[0;32m<ipython-input-14-2618196874>\u001b[0m in \u001b[0;36m<cell line: 0>\u001b[0;34m()\u001b[0m\n\u001b[1;32m      3\u001b[0m \u001b[0mstr_1\u001b[0m\u001b[0;34m=\u001b[0m \u001b[0;34m(\u001b[0m\u001b[0;34m\"hello\"\u001b[0m\u001b[0;34m)\u001b[0m\u001b[0;34m\u001b[0m\u001b[0;34m\u001b[0m\u001b[0m\n\u001b[1;32m      4\u001b[0m \u001b[0mprint\u001b[0m\u001b[0;34m(\u001b[0m\u001b[0mstr_1\u001b[0m\u001b[0;34m[\u001b[0m\u001b[0;36m0\u001b[0m\u001b[0;34m]\u001b[0m\u001b[0;34m)\u001b[0m\u001b[0;34m\u001b[0m\u001b[0;34m\u001b[0m\u001b[0m\n\u001b[0;32m----> 5\u001b[0;31m \u001b[0mstr_1\u001b[0m\u001b[0;34m[\u001b[0m\u001b[0;36m0\u001b[0m\u001b[0;34m]\u001b[0m \u001b[0;34m=\u001b[0m \u001b[0;34m\"H\"\u001b[0m\u001b[0;34m\u001b[0m\u001b[0;34m\u001b[0m\u001b[0m\n\u001b[0m\u001b[1;32m      6\u001b[0m \u001b[0mprint\u001b[0m\u001b[0;34m(\u001b[0m\u001b[0mstr_1\u001b[0m\u001b[0;34m)\u001b[0m\u001b[0;34m\u001b[0m\u001b[0;34m\u001b[0m\u001b[0m\n",
            "\u001b[0;31mTypeError\u001b[0m: 'str' object does not support item assignment"
          ]
        }
      ]
    },
    {
      "cell_type": "code",
      "source": [
        "#e.g.\n",
        "\n",
        "list_1= [\"h\",\"e\",\"l\",\"l\",\"o\"]\n",
        "print(list_1[0])\n",
        "list_1[0] = \"H\"\n",
        "print(list_1)"
      ],
      "metadata": {
        "colab": {
          "base_uri": "https://localhost:8080/"
        },
        "id": "j7JFpZNm555d",
        "outputId": "b76a5201-3df9-40c7-85d6-170732e46963"
      },
      "execution_count": 13,
      "outputs": [
        {
          "output_type": "stream",
          "name": "stdout",
          "text": [
            "h\n",
            "['H', 'e', 'l', 'l', 'o']\n"
          ]
        }
      ]
    },
    {
      "cell_type": "markdown",
      "source": [
        "7. How do tuples ensure data integrity in Python?\n",
        "\n",
        "   -> Tuple is another data structure in python with immutability feature.\n",
        "\n",
        "   Tuple ensures data integrity, the ways are discussed below:\n",
        "\n",
        "\n",
        "\n",
        "1.   Immutability:\n",
        "\n",
        "Cannot modify, add, or remove items from a tuple after it is created.\n",
        "This means that data stored in a tuple is safe from accidental changes.\n",
        "\n",
        "e.g. person = (\"Mohima\", 22, \"Kolkata\")\n",
        "\n",
        "person[1] = 25    Error: tuples are immutable\n",
        "\n",
        "Ensures the original data remains constant and protected.\n",
        "\n",
        "2. Use as Dictionary Keys:\n",
        "\n",
        "Because tuples are immutable, they are hashable, meaning they can be used as keys in dictionaries.\n",
        "\n",
        "Lists cannot be used as keys, since they can change.\n",
        "\n",
        "e.g. location = {(700140, 700141): \"Kolkata\"}  Tuple as key\n",
        "\n",
        "This ensures that the key value won’t change and break dictionary behavior.\n",
        "\n",
        "3. Ideal for Fixed Collections:\n",
        "\n",
        "Tuples are used to represent fixed structures — like coordinates, RGB colors, or database records — where the data shouldn’t change.\n",
        "\n",
        "e.g. rgb_color = (255, 255, 0)  # Yellow\n",
        "\n",
        "Can't accidentally change a component\n",
        "\n",
        "This makes the data more reliable and less error-prone.\n",
        "\n",
        "\n",
        "\n",
        "\n",
        "\n",
        "\n",
        "\n",
        "\n"
      ],
      "metadata": {
        "id": "-UMNTTPQ8ZWc"
      }
    },
    {
      "cell_type": "markdown",
      "source": [
        "8. What is a hash table, and how does it relate to dictionaries in Python?\n",
        "\n",
        "   -> A hash table allows fast storage and retrieval of data using key-value pairs — and it's the foundation of how dictionaries work in Python.\n",
        "\n",
        "\n",
        "\n",
        "1.   A hash table stores data in key-value pairs\n",
        "2.   It uses a hash function to convert a key into a unique index (a number).\n",
        "3. This index determines where the value is stored in memory.\n",
        "\n",
        "How the Hash Table works:\n",
        "\n",
        "\n",
        "\n",
        "1.   Insert Data:\n",
        "\n",
        "my_dict = {\"name\": \"Mohima\"}\n",
        "\n",
        "2. Python uses a hash function on the key \"name\":\n",
        "\n",
        "hash(\"name\") → 5432578 (example)\n",
        "\n",
        "3. This number decides where in memory the value \"Mohima\" is stored.\n",
        "\n",
        "4. when the code is run as:\n",
        "\n",
        "my_dict[\"name\"]\n",
        "\n",
        "Python again hashes \"name\" and jumps directly to the location to fetch \"Mohima\".\n",
        "\n",
        "Dictionary = Hash Table in Python\n",
        "\n",
        "\n",
        "1.   Key\tcan be any immutable object\n",
        "2.   Value\tcan be any object\n",
        "3. Lookup time is very fast\n",
        "4. Backed by hash table implementation\n",
        "\n",
        "Benefits of Hash Tables in dictionaries:\n",
        "\n",
        "\n",
        "\n",
        "1.   Fast lookups and updates\n",
        "2.   Efficient memory use\n",
        "3. Unique keys (each key maps to one value)\n",
        "\n",
        "Hash Collisions:\n",
        "If two keys produce the same hash, Python handles it internally using methods like chaining or open addressing to resolve conflicts.\n",
        "\n",
        "e.g.\n",
        "\n",
        "dict_1= {\"name\": \"Mohima\", \"age\": 22, \"location\": \"Kolkata\"}\n",
        "\n",
        "print(dict_1[name]) #Fast lookup via hash table\n",
        "\n",
        "-> Mohima\n",
        "\n",
        "A dictionary in Python is an implementation of a hash table — allowing fast, key-based access to values by hashing keys.\n",
        "\n",
        "\n",
        "\n",
        "\n"
      ],
      "metadata": {
        "id": "lC98KhD__dTM"
      }
    },
    {
      "cell_type": "markdown",
      "source": [
        "9. Can lists contain different data types in Python?\n",
        "\n",
        "   -> Yes, lists can contain different data types in python as it is denoted as heterogenous type (int, str, complex, float, bool).\n",
        "\n",
        "   It is also a contiguous memory allocation process where the data are stored together."
      ],
      "metadata": {
        "id": "uwuGP1cmSpQC"
      }
    },
    {
      "cell_type": "code",
      "source": [
        "#e.g.\n",
        "\n",
        "list_2= [\"Mohima\", 22, 9.50, True, 2+4j]"
      ],
      "metadata": {
        "id": "lNPIi6Z2TwMG"
      },
      "execution_count": 17,
      "outputs": []
    },
    {
      "cell_type": "markdown",
      "source": [
        "10.  Explain why strings are immutable in Python?\n",
        "\n",
        "    -> In Python, strings are immutable, meaning once a string is created, it cannot be changed.\n",
        "\n",
        "    If we try to modify a string, Python creates a new string object instead of changing the original.\n",
        "\n",
        "    Why Strings Are Immutable in Python:\n",
        "\n",
        "\n",
        "1.   Efficiency and Performance:\n",
        "\n",
        "*   Strings are used very frequently in Python (e.g., keys in dictionaries)\n",
        "*   Making them immutable allows Python to reuse string objects rather than recreate them\n",
        "* This improves performance and saves memory (via a process called string interning)\n",
        "\n",
        "\n",
        "2.   Safety and Security\n",
        "\n",
        "\n",
        "*   Immutability means strings can’t be changed accidentally during execution\n",
        "*   This makes programs more predictable and less prone to bugs\n",
        "\n",
        "e.g. username = \"admin\" # If strings were mutable, changing one could change others referencing it — risky!\n",
        "\n",
        "3. Hashability:\n",
        "\n",
        "\n",
        "*   Only immutable objects can be hashed and used as keys in dictionaries or elements in sets\n",
        "*   Since strings are immutable, they are hashable\n",
        "\n",
        "e.g. my_dict = {\"user1\": \"Mohima\"}  #\"user1\" is a string key\n",
        "\n",
        "4.  Thread Safety:\n",
        "\n",
        "\n",
        "*   In multithreading environments, immutable objects are safe to share between threads because they can’t be changed.\n",
        "\n",
        "\n",
        "\n",
        "\n",
        "\n",
        "\n",
        "\n",
        "\n"
      ],
      "metadata": {
        "id": "-fFeyrtrUgaH"
      }
    },
    {
      "cell_type": "markdown",
      "source": [
        "11. What advantages do dictionaries offer over lists for certain tasks?\n",
        "\n",
        "    ->  While both lists and dictionaries are fundamental data structures in Python, dictionaries offer several key advantages over lists for specific tasks — especially when working with key-value relationships.\n",
        "\n",
        "    Advantages of Dictionaries Over Lists:\n",
        "\n",
        "\n",
        "\n",
        "1.   Dictionaries access values via meaningful keys, lists access by position/index only\n",
        "2.   Hash table allows quick access in dictionaries, in lists because of large data the search is slower\n",
        "3. Dictionaries are structured as key-value pairs, lists have no explicit labels for data\n",
        "4. In dictionaries keys make data self-descriptive, in lists we must remember what each index represents\n",
        "5. Dictionaries are great for lookups, configs, and associations, lists are not efficient or readable for that purpose\n",
        "\n",
        "Example Comparison:\n",
        "\n",
        "In Lists,\n",
        "\n",
        "user = [\"Mohima\", 22, \"India\"]\n",
        "\n",
        "print(user[0])  # What is index 0? we have to remember it's the name\n",
        "\n",
        "In Dict,\n",
        "\n",
        "user = {\"name\": \"Mohima\", \"age\": 22, \"country\": \"India\"}\n",
        "print(user[\"name\"])  # Much clearer and readable\n",
        "\n",
        "When to Prefer Dictionaries:\n",
        "\n",
        "\n",
        "1.   Need named elements,\tkeys act as labels (e.g., \"name\", \"age\")\n",
        "2.   Perform frequent lookups,\tfaster access via keys\n",
        "3. Store configuration settings,\tstructured, descriptive key-value format\n",
        "4. Need to map values,\tE.g. student roll number -> name\n",
        "\n",
        "Dictionary is used when we need fast access to values using unique, descriptive keys — it makes the code cleaner, faster, and easier to understand than using lists for the same task.\n",
        "\n",
        "\n",
        "\n"
      ],
      "metadata": {
        "id": "8Q-Nus4xW9w-"
      }
    },
    {
      "cell_type": "code",
      "source": [
        "students= {22: \"Mohima\", 23: \"Ronit\", 24: \"Anjali\"}\n",
        "print(students[22]) # Using a list for this would be messy and inefficient"
      ],
      "metadata": {
        "colab": {
          "base_uri": "https://localhost:8080/"
        },
        "id": "gbqI97x7azaF",
        "outputId": "d6e40031-fa3b-4e71-9ad9-5dec38471024"
      },
      "execution_count": 20,
      "outputs": [
        {
          "output_type": "stream",
          "name": "stdout",
          "text": [
            "Mohima\n"
          ]
        }
      ]
    },
    {
      "cell_type": "markdown",
      "source": [
        " 12. Describe a scenario where using a tuple would be preferable over a list.\n",
        "\n",
        " -> A tuple is preferable over a list in scenarios where we want to ensure that the data remains constant — that is, unchanged.\n",
        "\n",
        " Scenario:Storing Coordinates\n",
        " Building a mapping or GPS application, and we need to store a location’s latitude and longitude:\n",
        "\n",
        " e.g.\n",
        "\n",
        "\n",
        " location = (28.6139, 77.2090)  # Delhi (Latitude, Longitude)\n",
        "\n",
        " Why Use a Tuple Here?\n",
        "\n",
        "\n",
        "1.   Immutability-\tCoordinates should not change accidentally\n",
        "2.   Fixed Structure-\tAlways 2 elements (latitude, longitude)\n",
        "3. Hashable-\tCan use the tuple as a dictionary key or in a set\n",
        "4. Better Semantics-\tMakes it clear the values are constant and related\n",
        "\n",
        " If we used a List Instead:\n",
        "\n",
        " location = [28.6139, 77.2090]\n",
        "\n",
        " location[0] = 999  #Could change accidentally, the integrity of the data is lost.\n",
        "\n",
        "Other Common Tuple Use Cases are:\n",
        "\n",
        "\n",
        "1.   Returning multiple values from a function:\n",
        "\n",
        "     e.g.\n",
        "     \n",
        "     def get_user():\n",
        "    \n",
        "    return (\"Mohima\", 22)\n",
        "2.   As dictionary keys:\n",
        "\n",
        " e.g.\n",
        "\n",
        " city_coords = {(28.6139, 77.2090): \"Delhi\"}\n",
        "\n",
        "\n",
        "3. Storing configuration constants that shouldn’t change\n",
        "\n",
        "A tuple is used when the data is fixed, logically grouped, and should not be modified — like coordinates, RGB values, or records from a database.\n",
        "\n",
        "\n",
        "\n",
        "\n",
        "\n"
      ],
      "metadata": {
        "id": "RJEXzFnRbRJm"
      }
    },
    {
      "cell_type": "markdown",
      "source": [
        "13.  How do sets handle duplicate values in Python?\n",
        "\n",
        "     -> In Python, sets automatically remove duplicates. They are designed to store unique elements only.\n",
        "\n",
        "     How Sets Handle Duplicates:\n",
        "\n",
        "\n",
        "1.   When we add items to a set, Python checks if the item already exists (using its hash value).\n",
        "2.   If the item is already present, it's ignored — not added again.\n",
        "\n",
        "e.g.\n",
        "\n",
        "fruits = {\"apple\", \"banana\", \"apple\", \"cherry\"}\n",
        "\n",
        "\n",
        "print(fruits)\n",
        "\n",
        "{'apple', 'banana', 'cherry'}\n",
        "\n",
        "How it happens:\n",
        "\n",
        "\n",
        "\n",
        "1.   Each item added to the set is passed through a hash function.\n",
        "2.   If its hash value already exists in the internal hash table, the item is not added again.\n",
        "3. This ensures all elements remain unique.\n",
        "\n",
        "Set Properties:\n",
        "\n",
        "1. No duplicates-\tStores only one copy of each item\n",
        "2. Unordered-\tNo guaranteed order of elements\n",
        "3. Hash-based-\tUses hash values to store and check items\n",
        "\n",
        "Sets in Python automatically ignore duplicate values by using hash-based storage — ensuring all elements remain unique and efficient for membership testing.\n",
        "\n",
        "\n"
      ],
      "metadata": {
        "id": "5_gwpUxweli0"
      }
    },
    {
      "cell_type": "markdown",
      "source": [
        "14.  How does the “in” keyword work differently for lists and dictionaries?\n",
        "\n",
        "     -> The in keyword is used in Python to check membership, but it behaves differently depending on the data structure — especially between lists and dictionaries.\n",
        "\n",
        "\n",
        "\n",
        "1.   in with Lists\n",
        "\n",
        "\n",
        "\n",
        "*   Checks if a value exists in the list\n",
        "*   It searches through each element, so it's slow for large lists (linear time O(n)).\n",
        "\n",
        "e.g.\n",
        "\n",
        "fruits = [\"apple\", \"banana\", \"cherry\"]\n",
        "\n",
        "print(\"banana\" in fruits)  # True\n",
        "\n",
        "\n",
        "print(\"grape\" in fruits)   # False\n",
        "\n",
        "Here, Python checks each element in the list one by one.\n",
        "\n",
        "2. in with Dictionaries\n",
        "\n",
        "\n",
        "\n",
        "*   Checks if a key exists, not the value.\n",
        "*   It uses hashing, so it’s much faster (average time O(1)).\n",
        "\n",
        "e.g.\n",
        "\n",
        "person = {\"name\": \"Mohima\", \"age\": 22}\n",
        "\n",
        "print(\"name\" in person)     # True (checks for key)\n",
        "\n",
        "To check if a value is in a dictionary:\n",
        "\n",
        "print(\"Mohima\" in person.values())  # True\n",
        "\n",
        "Comparison:\n",
        "1. in checks for\tElement in list but Key in dictionary\n",
        "2. Search speed\tis slower (O(n)) in list but faster (O(1)average) in dict\n",
        "3. In list value check happens direct (\"apple\" in list)\tbut in dict (\"Mohima\" in person.values())\n",
        "4. Key check is not applicable in lists but in dict it is direct (\"key\" in dict)\n",
        "\n",
        "The Ultimate comparison:\n",
        "1. in checks values in lists,\n",
        "2. but checks keys in dictionaries — and does it much faster for hashing.\n",
        "\n",
        "\n",
        "\n",
        "\n",
        "\n",
        "\n",
        "\n"
      ],
      "metadata": {
        "id": "UqrCOme-hnnj"
      }
    },
    {
      "cell_type": "markdown",
      "source": [
        "15. Can you modify the elements of a tuple? Explain why or why not?\n",
        "\n",
        "    -> No, we cannot modify the elements of a tuple in Python — and that’s by design.\n",
        "\n",
        "    Why we Can’t Modify a Tuple:\n",
        "\n",
        "    Tuples are immutable — meaning once they are created, their content cannot be changed (no adding, removing, or updating elements).\n",
        "\n",
        "    e.g.\n",
        "\n",
        "    my_tuple = (10, 20, 30)\n",
        "\n",
        "    my_tuple[1] = 99   # Error: 'tuple' object does not support item assignment\n",
        "\n",
        "    Why Are Tuples Immutable?\n",
        "\n",
        "    1. Data protection- Prevents accidental changes\n",
        "    2. Performance-\tMore memory-efficient than lists\n",
        "    3. Hashable-\tCan be used as keys in dictionaries\n",
        "    4. Thread-safe-\tSafe to use across multiple threads\n",
        "\n",
        "    -> Special Case: Mutable Elements Inside a Tuple\n",
        "\n",
        "    Tuples cannot be changed, but elements inside a tuple can be changed if they are mutable (like a list or dictionary):\n",
        "\n",
        "    \n",
        "\n",
        "\n"
      ],
      "metadata": {
        "id": "nJhn3ZN8lQmL"
      }
    },
    {
      "cell_type": "code",
      "source": [
        "tuple_2= (1,2,[3,4],5,6)\n",
        "tuple_2[2][0]= 100\n",
        "tuple_2 #we can modify the mutable object inside a tuple.\n",
        "#we cannot change the tuple structure itself (like replacing an element)."
      ],
      "metadata": {
        "colab": {
          "base_uri": "https://localhost:8080/"
        },
        "id": "Z8byI9yWo0ol",
        "outputId": "8b20ed78-3544-4b52-a9e7-693809ebe7e4"
      },
      "execution_count": 27,
      "outputs": [
        {
          "output_type": "execute_result",
          "data": {
            "text/plain": [
              "(1, 2, [100, 4], 5, 6)"
            ]
          },
          "metadata": {},
          "execution_count": 27
        }
      ]
    },
    {
      "cell_type": "markdown",
      "source": [
        "16. What is a nested dictionary, and give an example of its use case?\n",
        "\n",
        "    -> A nested dictionary in Python is a dictionary inside another dictionary — allowing you to organize data in a hierarchical or structured format.\n",
        "\n",
        "    -> A nested dictionary looks like this:\n",
        "\n",
        "    {\n",
        "  \"outer_key\": {\n",
        "    \"inner_key1\": value1,\n",
        "    \"inner_key2\": value2\n",
        "  }\n",
        "}\n",
        "\n",
        "So each value in the outer dictionary can be another dictionary.\n",
        "\n",
        "Example:\n",
        "\n",
        "students =\n",
        "\n",
        "{\n",
        "    \"S001\": {\"name\": \"Alice\", \"age\": 20, \"grade\": \"A\"},\n",
        "    \n",
        "    \"S002\": {\"name\": \"Bob\", \"age\": 22, \"grade\": \"B\"},\n",
        "    \"S003\": {\"name\": \"Charlie\", \"age\": 21, \"grade\": \"A\"}\n",
        "}\n",
        "\n",
        "To access this:\n",
        "\n",
        "print(students[\"S001\"][\"name\"])   # Output: Alice\n",
        "\n",
        "print(students[\"S002\"][\"grade\"])  # Output: B\n",
        "\n",
        "Real-Life Use Cases for Nested Dictionaries:\n",
        "\n",
        "1. Student Records- Store detailed info per student ID (like above example)\n",
        "2. E-commerce Orders- Orders → items → quantity, price, etc.\n",
        "\n",
        "A nested dictionary is a dictionary where values can themselves be dictionaries.\n",
        "It's ideal for storing structured, multi-level data like user profiles, settings, or records.\n"
      ],
      "metadata": {
        "id": "1-cz1QnMqC2Q"
      }
    },
    {
      "cell_type": "markdown",
      "source": [
        "17.  Describe the time complexity of accessing elements in a dictionary.\n",
        "\n",
        "     -> The time complexity of accessing elements in a dictionary in Python is typically:\n",
        "\n",
        "     1. Average Case: O(1) (Constant Time):\n",
        "\n",
        "     When we access an element by its key, Python uses a hash table to instantly locate the value.\n",
        "\n",
        "     e.g.\n",
        "\n",
        "     my_dict = {\"a\": 10, \"b\": 20, \"c\": 30}\n",
        "\n",
        "     print(my_dict[\"b\"])  # Accessing value for key \"b\" takes O(1) time\n",
        "\n",
        "     This is what makes dictionaries extremely fast for lookups.\n",
        "\n",
        "     2. Worst Case: O(n) (Rare):\n",
        "\n",
        "     In rare situations like hash collisions, Python may need to check multiple entries.\n",
        "\n",
        "     This can degrade lookup time to O(n), but Python’s hash table is designed to minimize collisions.\n",
        "\n",
        "     Operation:\n",
        "\n",
        "     1. Access (dict[key])\t- O(1) Avg Time\n",
        "     2. Insert/Update -\t    O(1) Avg Time\n",
        "     3. Delete-             \tO(1) Avg Time\n",
        "\n",
        "     Why It's Fast:\n",
        "    \n",
        "     1. Python dictionaries use hashing: the key is hashed to find a memory location.\n",
        "\n",
        "     2. This is much faster than searching through a list (O(n)).\n",
        "\n",
        "     Accessing a dictionary element by key is usually O(1) — fast and efficient, for thr underlying hash table structure.\n",
        "\n"
      ],
      "metadata": {
        "id": "P4Ka2PRKrrk3"
      }
    },
    {
      "cell_type": "markdown",
      "source": [
        "18.  In what situations are lists preferred over dictionaries?\n",
        "\n",
        "     ->  While dictionaries are great for key-based lookups, there are several situations where lists are the better choice.\n",
        "\n",
        "     When to Prefer Lists Over Dictionaries:\n",
        "\n",
        "     1. Need ordered, sequential data- Lists maintain insertion order making them ideal for ordered collections\n",
        "\n",
        "     2. Need to iterate through elements in order- Easier and faster to loop through a list of items in sequence\n",
        "\n",
        "     3. Need index-based access- Access by position (e.g., items[0]) is more natural in lists\n",
        "\n",
        "     4. Care about duplicates-\tLists allow duplicates; dictionaries don’t (keys must be unique)\n",
        "\n",
        "     5. Simple collections of items-\tIf only need a list of values (e.g., numbers, names), dictionaries are overkill\n",
        "\n",
        "     6. Care about memory usage for small datasets-\tLists generally use less memory than dictionaries for small, simple data\n",
        "\n",
        "     Example 1: A list of student names\n",
        "\n",
        "     students = [\"Alice\", \"Bob\", \"Charlie\"]\n",
        "\n",
        "     for name in students:\n",
        "    \n",
        "     print(name)\n",
        "\n",
        "     Easy to loop through in order, using a dictionary here would add unnecessary complexity.\n",
        "\n",
        "     Use lists when working with ordered, sequential, or index-based data, especially when we don’t need labels or fast key-based access."
      ],
      "metadata": {
        "id": "c-7saYCrtVQl"
      }
    },
    {
      "cell_type": "markdown",
      "source": [
        "19. Why are dictionaries considered unordered, and how does that affect data retrieval?\n",
        "\n",
        "   -> In versions before Python 3.7, dictionaries were implemented using a hash table, and the internal order of items (keys/values) was not guaranteed to follow the order in which they were inserted.\n",
        "\n",
        "   This means if we added items in a certain order, retrieving them would not necessarily return them in that same order.\n",
        "\n",
        "   Starting with Python 3.7, dictionaries now preserve insertion order as an official language feature.\n",
        "\n",
        "   e.g.\n",
        "\n",
        "   d = {'a': 1, 'b': 2, 'c': 3}\n",
        "\n",
        "   print(d)  # Output: {'a': 1, 'b': 2, 'c': 3}\n",
        "\n",
        "   So while dictionaries are technically not \"unordered\" anymore, we still say they're \"unordered\" in concept because:\n",
        "\n",
        "   1. Their primary use case is key-based access, not position-based access.\n",
        "   2. The underlying data structure is a hash table, not a sequence.\n",
        "\n",
        "    How Does This Affect Data Retrieval?\n",
        "\n",
        "    1. Key lookup is fast- \tAccess via dict[key] is O(1)\n",
        "    2. No index access-\tCannot do dict[0] like in a list\n",
        "    3. Order not meaningful-\tRetrieval is based on key, not position — unless explicitly loop in order\n",
        "\n",
        "    Dictionaries were considered unordered because they use a hash table, focusing on key-based access, not positional order.\n",
        "Since Python 3.7+, they preserve insertion order, but we still can’t access items by index, so conceptually they remain unordered collections.\n",
        "\n"
      ],
      "metadata": {
        "id": "9GqhjFxlvoFP"
      }
    },
    {
      "cell_type": "markdown",
      "source": [
        "20. Explain the difference between a list and a dictionary in terms of data retrieval.\n",
        "\n",
        "   -> The key differences between a list and a dictionary in Python in terms of data retrieval are:\n",
        "\n",
        "   1. Access by-\tIndex (e.g., list[0]) in list, Key (e.g., dict[\"name\"]) in dict.\n",
        "\n",
        "   2. Access Speed-\tO(1) for index lookup in list, O(1) average for key lookup (hashing) in dict\n",
        "\n",
        "   3. Missing Data-\tList raises IndexError if out of range, dict raises KeyError if key doesn’t exist\n",
        "\n",
        "   4. Use Case-\tList is used when order matters and position is known, dict is used\twhen labeled data or key-value pairs are needed\n",
        "\n",
        "   List Example – Access by Position:\n",
        "\n",
        "   fruits = [\"apple\", \"banana\", \"cherry\"]\n",
        "\n",
        "   print(fruits[1])  # Output: banana\n",
        "\n",
        "   Dictionary Example – Access by Key:\n",
        "\n",
        "   person = {\"name\": \"Mohima\", \"age\": 22}\n",
        "\n",
        "   print(person[\"name\"])  # Output: Mohima\n",
        "\n",
        "   1. List- Maintains order,\tDict- Maintains order (Python 3.7+)\n",
        "   2. List allows duplicates, Dict allows duplicates for (values) and not for (keys)\n",
        "   3. List is best used for\tOrdered collections, Dict is best used for Key-value (mapped) data\n",
        "\n",
        "\n",
        "  1. List is used to access elements by position (index).\n",
        "  2. Dictionary is used to retrieve values using keys (like names, IDs, labels).\n",
        "\n"
      ],
      "metadata": {
        "id": "R12u4NxZ1eak"
      }
    },
    {
      "cell_type": "markdown",
      "source": [
        "# Practical Questions"
      ],
      "metadata": {
        "id": "nomBRLcg4kcY"
      }
    },
    {
      "cell_type": "code",
      "source": [
        "#1  Write a code to create a string with your name and print it\n",
        "\n",
        "my_name = \"Mohima Dey\"\n",
        "print(\"My Name is:\", my_name)"
      ],
      "metadata": {
        "colab": {
          "base_uri": "https://localhost:8080/"
        },
        "id": "Jco6bUeWio4H",
        "outputId": "d9abdb61-98cb-48bc-bfb2-b0ad07c051bb"
      },
      "execution_count": 3,
      "outputs": [
        {
          "output_type": "stream",
          "name": "stdout",
          "text": [
            "My Name is: Mohima Dey\n"
          ]
        }
      ]
    },
    {
      "cell_type": "code",
      "source": [
        "#2 Write a code to find the length of the string \"Hello World\"\n",
        "\n",
        "str_1 = \"Hello World\"\n",
        "\n",
        "print(\"Length of the string is:\",(len(str_1)))"
      ],
      "metadata": {
        "colab": {
          "base_uri": "https://localhost:8080/"
        },
        "id": "3qe-r2cMjKJh",
        "outputId": "bb6daf40-978a-4d9c-b724-f61837ac7f85"
      },
      "execution_count": 9,
      "outputs": [
        {
          "output_type": "stream",
          "name": "stdout",
          "text": [
            "Length of the string is: 11\n"
          ]
        }
      ]
    },
    {
      "cell_type": "code",
      "source": [
        "#3  Write a code to slice the first 3 characters from the string \"Python Programming\"\n",
        "\n",
        "str_2 = \"Python Programming\"\n",
        "\n",
        "print(str_2[0:3])"
      ],
      "metadata": {
        "colab": {
          "base_uri": "https://localhost:8080/"
        },
        "id": "zmukkc3Dj9FS",
        "outputId": "39f3952a-d0a2-454e-faf8-9ad461e2a3b8"
      },
      "execution_count": 10,
      "outputs": [
        {
          "output_type": "stream",
          "name": "stdout",
          "text": [
            "Pyt\n"
          ]
        }
      ]
    },
    {
      "cell_type": "code",
      "source": [
        "#4 Write a code to convert the string \"hello\" to uppercase\n",
        "\n",
        "str_3 = \"hello\"\n",
        "print(str_3.upper())\n"
      ],
      "metadata": {
        "colab": {
          "base_uri": "https://localhost:8080/"
        },
        "id": "Fbxrc6tck-r5",
        "outputId": "a1f8e3d1-b210-4649-8c70-bf809e2462c4"
      },
      "execution_count": 12,
      "outputs": [
        {
          "output_type": "stream",
          "name": "stdout",
          "text": [
            "HELLO\n"
          ]
        }
      ]
    },
    {
      "cell_type": "code",
      "source": [
        "#5  Write a code to replace the word \"apple\" with \"orange\" in the string \"I like apple\"\n",
        "\n",
        "str_4 = \"I like apple\"\n",
        "print(str_4.replace(\"apple\", \"orange\"))"
      ],
      "metadata": {
        "colab": {
          "base_uri": "https://localhost:8080/"
        },
        "id": "tXEnXFIMlRMF",
        "outputId": "09996c90-196b-43b8-b023-3b72817445d7"
      },
      "execution_count": 13,
      "outputs": [
        {
          "output_type": "stream",
          "name": "stdout",
          "text": [
            "I like orange\n"
          ]
        }
      ]
    },
    {
      "cell_type": "code",
      "source": [
        "#6 Write a code to create a list with numbers 1 to 5 and print it.\n",
        "\n",
        "list_1 = [1,2,3,4,5]\n",
        "list_1"
      ],
      "metadata": {
        "colab": {
          "base_uri": "https://localhost:8080/"
        },
        "id": "rJJblvcpmZFd",
        "outputId": "3d758ead-3387-4e40-c060-2a3b08b7f825"
      },
      "execution_count": 14,
      "outputs": [
        {
          "output_type": "execute_result",
          "data": {
            "text/plain": [
              "[1, 2, 3, 4, 5]"
            ]
          },
          "metadata": {},
          "execution_count": 14
        }
      ]
    },
    {
      "cell_type": "code",
      "source": [
        "#7 Write a code to append the number 10 to the list [1, 2, 3, 4].\n",
        "\n",
        "list_2 = [1,2,3,4]\n",
        "list_2.append(10)\n",
        "list_2"
      ],
      "metadata": {
        "colab": {
          "base_uri": "https://localhost:8080/"
        },
        "id": "4vdUEjzqmokd",
        "outputId": "725d5e81-271e-499f-e8af-25f296113569"
      },
      "execution_count": 15,
      "outputs": [
        {
          "output_type": "execute_result",
          "data": {
            "text/plain": [
              "[1, 2, 3, 4, 10]"
            ]
          },
          "metadata": {},
          "execution_count": 15
        }
      ]
    },
    {
      "cell_type": "code",
      "source": [
        "#8 Write a code to remove the number 3 from the list [1, 2, 3, 4, 5]\n",
        "\n",
        "list_3 = [1,2,3,4,5]\n",
        "list_3.remove(3)\n",
        "list_3"
      ],
      "metadata": {
        "colab": {
          "base_uri": "https://localhost:8080/"
        },
        "id": "c23NkVNnm_f9",
        "outputId": "8caf2fb5-141d-4b5f-ea54-89ea32a0d087"
      },
      "execution_count": 16,
      "outputs": [
        {
          "output_type": "execute_result",
          "data": {
            "text/plain": [
              "[1, 2, 4, 5]"
            ]
          },
          "metadata": {},
          "execution_count": 16
        }
      ]
    },
    {
      "cell_type": "code",
      "source": [
        "#9 Write a code to access the second element in the list ['a', 'b', 'c', 'd'].\n",
        "\n",
        "list_4 = ['a','b','c','d']\n",
        "print(list_4[1])"
      ],
      "metadata": {
        "colab": {
          "base_uri": "https://localhost:8080/"
        },
        "id": "-uO4V8JdnLw5",
        "outputId": "4ce01497-73fb-46ac-c0c8-4fe1e0807e77"
      },
      "execution_count": 17,
      "outputs": [
        {
          "output_type": "stream",
          "name": "stdout",
          "text": [
            "b\n"
          ]
        }
      ]
    },
    {
      "cell_type": "code",
      "source": [
        "#10 Write a code to reverse the list [10, 20, 30, 40, 50].\n",
        "\n",
        "list_5 = [10,20,30,40,50]\n",
        "print(list_5[::-1])"
      ],
      "metadata": {
        "colab": {
          "base_uri": "https://localhost:8080/"
        },
        "id": "4posKPUHnmod",
        "outputId": "bb4918d9-8ee3-4917-ce29-aab19c3c92f6"
      },
      "execution_count": 25,
      "outputs": [
        {
          "output_type": "stream",
          "name": "stdout",
          "text": [
            "[50, 40, 30, 20, 10]\n"
          ]
        }
      ]
    },
    {
      "cell_type": "code",
      "source": [
        "#11 Write a code to create a tuple with the elements 100, 200, 300 and print it.\n",
        "\n",
        "tuple_1= (100, 200, 300)\n",
        "tuple_1"
      ],
      "metadata": {
        "colab": {
          "base_uri": "https://localhost:8080/"
        },
        "id": "vRDf-I7woSgZ",
        "outputId": "a10874d0-59fc-414b-ff4f-535fcff821a4"
      },
      "execution_count": 26,
      "outputs": [
        {
          "output_type": "execute_result",
          "data": {
            "text/plain": [
              "(100, 200, 300)"
            ]
          },
          "metadata": {},
          "execution_count": 26
        }
      ]
    },
    {
      "cell_type": "code",
      "source": [
        "#12  Write a code to access the second-to-last element of the tuple ('red', 'green', 'blue', 'yellow').\n",
        "\n",
        "tuple_2 = ('red', 'green', 'blue', 'yellow')\n",
        "tuple_2[1:]"
      ],
      "metadata": {
        "colab": {
          "base_uri": "https://localhost:8080/"
        },
        "id": "0Zl1myXDpvk5",
        "outputId": "8ac052eb-90b4-4c25-ac5e-3e9e0ce0df5a"
      },
      "execution_count": 27,
      "outputs": [
        {
          "output_type": "execute_result",
          "data": {
            "text/plain": [
              "('green', 'blue', 'yellow')"
            ]
          },
          "metadata": {},
          "execution_count": 27
        }
      ]
    },
    {
      "cell_type": "code",
      "source": [
        "#13  Write a code to find the minimum number in the tuple (10, 20, 5, 15).\n",
        "\n",
        "tuple_3 = (10, 20, 5, 15)\n",
        "tuple_3 = min(tuple_3)\n",
        "tuple_3"
      ],
      "metadata": {
        "colab": {
          "base_uri": "https://localhost:8080/"
        },
        "id": "3AfJFzdqqIHl",
        "outputId": "f3d90b96-eb74-4ab0-cef4-d59a0a28ce74"
      },
      "execution_count": 29,
      "outputs": [
        {
          "output_type": "execute_result",
          "data": {
            "text/plain": [
              "5"
            ]
          },
          "metadata": {},
          "execution_count": 29
        }
      ]
    },
    {
      "cell_type": "code",
      "source": [
        "#14 Write a code to find the index of the element \"cat\" in the tuple ('dog', 'cat', 'rabbit').\n",
        "\n",
        "tuple_4 = ('dog', 'cat', 'rabbit')\n",
        "tuple_4.index('cat')\n"
      ],
      "metadata": {
        "colab": {
          "base_uri": "https://localhost:8080/"
        },
        "id": "f6RyDnBNqWJx",
        "outputId": "90046eef-6204-4c68-ef0a-c6f76dcc8e6b"
      },
      "execution_count": 30,
      "outputs": [
        {
          "output_type": "execute_result",
          "data": {
            "text/plain": [
              "1"
            ]
          },
          "metadata": {},
          "execution_count": 30
        }
      ]
    },
    {
      "cell_type": "code",
      "source": [
        "#15  Write a code to create a tuple containing three different fruits and check if \"kiwi\" is in it\n",
        "\n",
        "tuple_5 = (\"Orange\", \"Apple\", \"Watermelon\")\n",
        "tuple_5.count(\"Kiwi\")"
      ],
      "metadata": {
        "colab": {
          "base_uri": "https://localhost:8080/"
        },
        "id": "R_1X8q_uq16p",
        "outputId": "233e94fe-ba4b-4406-f38d-b4856ef67b64"
      },
      "execution_count": 34,
      "outputs": [
        {
          "output_type": "execute_result",
          "data": {
            "text/plain": [
              "0"
            ]
          },
          "metadata": {},
          "execution_count": 34
        }
      ]
    },
    {
      "cell_type": "code",
      "source": [
        "#another method of Q.15\n",
        "\n",
        "if \"kiwi\" in tuple_5:\n",
        "  print(\"Kiwi is in the tuple\")\n",
        "else:\n",
        "  print(\"Kiwi is not in the tuple\")"
      ],
      "metadata": {
        "colab": {
          "base_uri": "https://localhost:8080/"
        },
        "id": "Pam0evLo1x9L",
        "outputId": "2c47ff08-5e2b-414c-e7d9-a838daf54604"
      },
      "execution_count": 35,
      "outputs": [
        {
          "output_type": "stream",
          "name": "stdout",
          "text": [
            "Kiwi is not in the tuple\n"
          ]
        }
      ]
    },
    {
      "cell_type": "code",
      "source": [
        "#16 Write a code to create a set with the elements 'a', 'b', 'c' and print it.\n",
        "\n",
        "set_1 = {\"a\",\"b\",\"c\"}\n",
        "set_1"
      ],
      "metadata": {
        "colab": {
          "base_uri": "https://localhost:8080/"
        },
        "id": "XaHxYeIU2b_f",
        "outputId": "54668576-a5cd-4e01-f74b-6347db9ce09b"
      },
      "execution_count": 36,
      "outputs": [
        {
          "output_type": "execute_result",
          "data": {
            "text/plain": [
              "{'a', 'b', 'c'}"
            ]
          },
          "metadata": {},
          "execution_count": 36
        }
      ]
    },
    {
      "cell_type": "code",
      "source": [
        "#17  Write a code to clear all elements from the set {1, 2, 3, 4, 5}.\n",
        "\n",
        "set_2 = {1, 2, 3, 4, 5}\n",
        "set_2.clear()\n",
        "set_2"
      ],
      "metadata": {
        "colab": {
          "base_uri": "https://localhost:8080/"
        },
        "id": "UQ8WIoyH2u2D",
        "outputId": "9fc8bfac-d9b0-4e2a-f740-c4971667d50f"
      },
      "execution_count": 37,
      "outputs": [
        {
          "output_type": "execute_result",
          "data": {
            "text/plain": [
              "set()"
            ]
          },
          "metadata": {},
          "execution_count": 37
        }
      ]
    },
    {
      "cell_type": "code",
      "source": [
        "#18 Write a code to remove the element 4 from the set {1, 2, 3, 4}.\n",
        "\n",
        "set_3 = {1, 2, 3, 4}\n",
        "set_3.remove(4)\n",
        "set_3"
      ],
      "metadata": {
        "colab": {
          "base_uri": "https://localhost:8080/"
        },
        "id": "vMtj44xL28SD",
        "outputId": "0653b681-a233-4e29-95b4-9398e915b695"
      },
      "execution_count": 39,
      "outputs": [
        {
          "output_type": "execute_result",
          "data": {
            "text/plain": [
              "{1, 2, 3}"
            ]
          },
          "metadata": {},
          "execution_count": 39
        }
      ]
    },
    {
      "cell_type": "code",
      "source": [
        "#19  Write a code to find the union of two sets {1, 2, 3} and {3, 4, 5}.\n",
        "\n",
        "set_4 = {1, 2, 3}\n",
        "set_5 = {3, 4, 5}\n",
        "set_4.union(set_5)"
      ],
      "metadata": {
        "colab": {
          "base_uri": "https://localhost:8080/"
        },
        "id": "5R1KOoG23Szr",
        "outputId": "de4aeb25-930f-45b1-b778-eb6742260d9c"
      },
      "execution_count": 41,
      "outputs": [
        {
          "output_type": "execute_result",
          "data": {
            "text/plain": [
              "{1, 2, 3, 4, 5}"
            ]
          },
          "metadata": {},
          "execution_count": 41
        }
      ]
    },
    {
      "cell_type": "code",
      "source": [
        "#20 Write a code to find the intersection of two sets {1, 2, 3} and {2, 3, 4}.\n",
        "\n",
        "set_6 = {1, 2, 3}\n",
        "set_7 = {2, 3, 4}\n",
        "set_6.intersection(set_7)"
      ],
      "metadata": {
        "colab": {
          "base_uri": "https://localhost:8080/"
        },
        "id": "u3iMsRvU3j8G",
        "outputId": "b95f68f3-8ac8-4260-eb7e-fb28c10c0269"
      },
      "execution_count": 42,
      "outputs": [
        {
          "output_type": "execute_result",
          "data": {
            "text/plain": [
              "{2, 3}"
            ]
          },
          "metadata": {},
          "execution_count": 42
        }
      ]
    },
    {
      "cell_type": "code",
      "source": [
        "#21  Write a code to create a dictionary with the keys \"name\", \"age\", and \"city\", and print it.\n",
        "\n",
        "dict_1 = {\"name\": \"Mohima\", \"age\": 22, \"city\": \"Kolkata\"}\n",
        "dict_1"
      ],
      "metadata": {
        "colab": {
          "base_uri": "https://localhost:8080/"
        },
        "id": "DNrSOyv437W6",
        "outputId": "b34ca6bf-ea82-49b1-d6c2-d72dcf9090e0"
      },
      "execution_count": 43,
      "outputs": [
        {
          "output_type": "execute_result",
          "data": {
            "text/plain": [
              "{'name': 'Mohima', 'age': 22, 'city': 'Kolkata'}"
            ]
          },
          "metadata": {},
          "execution_count": 43
        }
      ]
    },
    {
      "cell_type": "code",
      "source": [
        "#22 Write a code to add a new key-value pair \"country\": \"USA\" to the dictionary {'name': 'John', 'age': 25}\n",
        "\n",
        "dict_2 = {'name': 'John', 'age': 25}\n",
        "dict_2.update({\"country\": \"USA\"})\n",
        "dict_2"
      ],
      "metadata": {
        "colab": {
          "base_uri": "https://localhost:8080/"
        },
        "id": "vidNDeGH4KCW",
        "outputId": "1d465d83-c104-47d5-c6bb-6225687a9c99"
      },
      "execution_count": 46,
      "outputs": [
        {
          "output_type": "execute_result",
          "data": {
            "text/plain": [
              "{'name': 'John', 'age': 25, 'country': 'USA'}"
            ]
          },
          "metadata": {},
          "execution_count": 46
        }
      ]
    },
    {
      "cell_type": "code",
      "source": [
        "#23  Write a code to access the value associated with the key \"name\" in the dictionary {'name': 'Alice', 'age': 30}.\n",
        "\n",
        "dict_3 = {'name': 'Alice', 'age': 30}\n",
        "dict_3[\"name\"]"
      ],
      "metadata": {
        "colab": {
          "base_uri": "https://localhost:8080/",
          "height": 35
        },
        "id": "_HOKI3Bp4dRK",
        "outputId": "3a176502-2434-44b7-b0cf-4fe6a1fa37f9"
      },
      "execution_count": 51,
      "outputs": [
        {
          "output_type": "execute_result",
          "data": {
            "text/plain": [
              "'Alice'"
            ],
            "application/vnd.google.colaboratory.intrinsic+json": {
              "type": "string"
            }
          },
          "metadata": {},
          "execution_count": 51
        }
      ]
    },
    {
      "cell_type": "code",
      "source": [
        "#24 Write a code to remove the key \"age\" from the dictionary {'name': 'Bob', 'age': 22, 'city': 'New York'}.\n",
        "\n",
        "dict_4 = {'name': 'Bob', 'age': 22, 'city': 'New York'}\n",
        "dict_4.pop(\"age\")\n",
        "dict_4"
      ],
      "metadata": {
        "colab": {
          "base_uri": "https://localhost:8080/"
        },
        "id": "4L2q1Ga25RJn",
        "outputId": "7d4ea744-7685-43bc-e748-ef44db047b67"
      },
      "execution_count": 53,
      "outputs": [
        {
          "output_type": "execute_result",
          "data": {
            "text/plain": [
              "{'name': 'Bob', 'city': 'New York'}"
            ]
          },
          "metadata": {},
          "execution_count": 53
        }
      ]
    },
    {
      "cell_type": "code",
      "source": [
        "#25 Write a code to check if the key \"city\" exists in the dictionary {'name': 'Alice', 'city': 'Paris'}.\n",
        "\n",
        "dict_5 = {\"name\": 'Alice', \"city\": 'Paris'}\n",
        "dict_5.keys()"
      ],
      "metadata": {
        "colab": {
          "base_uri": "https://localhost:8080/"
        },
        "id": "RnJcai7D50bW",
        "outputId": "54ead31f-8df7-4b75-cb59-9c2a02fb58bb"
      },
      "execution_count": 56,
      "outputs": [
        {
          "output_type": "execute_result",
          "data": {
            "text/plain": [
              "dict_keys(['name', 'city'])"
            ]
          },
          "metadata": {},
          "execution_count": 56
        }
      ]
    },
    {
      "cell_type": "code",
      "source": [
        "#another method of Q.25\n",
        "\n",
        "if \"city\" in dict_5:\n",
        "  print(\"City is in the dictionary\")\n",
        "else:\n",
        "  print(\"City is not in the dictionary\")"
      ],
      "metadata": {
        "colab": {
          "base_uri": "https://localhost:8080/"
        },
        "id": "3HBqGwlL6O7X",
        "outputId": "a3daa4da-b500-4999-a2f3-53356122ce92"
      },
      "execution_count": 57,
      "outputs": [
        {
          "output_type": "stream",
          "name": "stdout",
          "text": [
            "City is in the dictionary\n"
          ]
        }
      ]
    },
    {
      "cell_type": "code",
      "source": [
        "#26 Write a code to create a list, a tuple, and a dictionary, and print them all.\n",
        "\n",
        "list_1 = [1,2,3,4,5]\n",
        "tuple_1= (100, 200, 300)\n",
        "dict_1 = {\"name\": \"Mohima\", \"age\": 22, \"city\": \"Kolkata\"}\n",
        "print(\"The list is:\", list_1)\n",
        "print(\"The tuple is:\", tuple_1)\n",
        "print(\"The dict is:\", dict_1)"
      ],
      "metadata": {
        "colab": {
          "base_uri": "https://localhost:8080/"
        },
        "id": "j81ZH-ow6j-T",
        "outputId": "19f8d7de-fc8d-4a96-e067-ab9e6c038db8"
      },
      "execution_count": 60,
      "outputs": [
        {
          "output_type": "stream",
          "name": "stdout",
          "text": [
            "The list is: [1, 2, 3, 4, 5]\n",
            "The tuple is: (100, 200, 300)\n",
            "The dict is: {'name': 'Mohima', 'age': 22, 'city': 'Kolkata'}\n"
          ]
        }
      ]
    },
    {
      "cell_type": "code",
      "source": [
        "#27  Write a code to create a list of 5 random numbers between 1 and 100, sort it in ascending order, and print the result.(replaced)\n",
        "\n",
        "import random\n",
        "\n",
        "random_numbers = random.sample(range(1,100),5)\n",
        "random_numbers.sort()\n",
        "print(\"Sorted random numbers:\", random_numbers)"
      ],
      "metadata": {
        "colab": {
          "base_uri": "https://localhost:8080/"
        },
        "id": "1ZuwFuOu77jj",
        "outputId": "77061449-00da-4fc7-b756-9b27d51bcdbf"
      },
      "execution_count": 73,
      "outputs": [
        {
          "output_type": "stream",
          "name": "stdout",
          "text": [
            "Sorted random numbers: [1, 17, 73, 80, 97]\n"
          ]
        }
      ]
    },
    {
      "cell_type": "code",
      "source": [
        "#28  Write a code to create a list with strings and print the element at the third index.\n",
        "\n",
        "list_6 = ['Mohima', 'Digital Marketing', 'Data Analytics', 'Freelancing']\n",
        "print(\"Element at Index 3:\", list_6[3])"
      ],
      "metadata": {
        "colab": {
          "base_uri": "https://localhost:8080/"
        },
        "id": "8arbP13D-d3a",
        "outputId": "1b955ba1-ca0f-496a-9c02-a588480b12cf"
      },
      "execution_count": 75,
      "outputs": [
        {
          "output_type": "stream",
          "name": "stdout",
          "text": [
            "Element at Index 3: Freelancing\n"
          ]
        }
      ]
    },
    {
      "cell_type": "code",
      "source": [
        "#29  Write a code to combine two dictionaries into one and print the result.\n",
        "\n",
        "dict_6 = {\"name\": \"Mohima\", \"age\": 22}\n",
        "dict_7 = {\"city\": \"Kolkata\", \"country\": \"India\"}\n",
        "dict_6.update(dict_7)\n",
        "dict_6"
      ],
      "metadata": {
        "colab": {
          "base_uri": "https://localhost:8080/"
        },
        "id": "BdZL_SCf_5QE",
        "outputId": "65980adc-8bdb-4c65-8188-fa10bb8030c4"
      },
      "execution_count": 76,
      "outputs": [
        {
          "output_type": "execute_result",
          "data": {
            "text/plain": [
              "{'name': 'Mohima', 'age': 22, 'city': 'Kolkata', 'country': 'India'}"
            ]
          },
          "metadata": {},
          "execution_count": 76
        }
      ]
    },
    {
      "cell_type": "code",
      "source": [
        "#30 Write a code to convert a list of strings into a set.\n",
        "\n",
        "List_6 = ['Mohima', 'Digital Marketing', 'Data Analytics', 'Freelancing']\n",
        "Set_8 = set(List_6)\n",
        "print(Set_8)\n",
        "print(type(Set_8))"
      ],
      "metadata": {
        "colab": {
          "base_uri": "https://localhost:8080/"
        },
        "id": "ybKJwNrPAiWf",
        "outputId": "3c2f7282-1a9f-45b0-db76-c6d855474a13"
      },
      "execution_count": 81,
      "outputs": [
        {
          "output_type": "stream",
          "name": "stdout",
          "text": [
            "{'Data Analytics', 'Digital Marketing', 'Mohima', 'Freelancing'}\n",
            "<class 'set'>\n"
          ]
        }
      ]
    },
    {
      "cell_type": "code",
      "source": [],
      "metadata": {
        "id": "U3935mqHA2Pe"
      },
      "execution_count": null,
      "outputs": []
    }
  ]
}