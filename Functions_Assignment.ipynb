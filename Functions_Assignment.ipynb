{
  "nbformat": 4,
  "nbformat_minor": 0,
  "metadata": {
    "colab": {
      "provenance": []
    },
    "kernelspec": {
      "name": "python3",
      "display_name": "Python 3"
    },
    "language_info": {
      "name": "python"
    }
  },
  "cells": [
    {
      "cell_type": "markdown",
      "source": [
        "Functions Assignment\n",
        "\n",
        "Theory Questions\n"
      ],
      "metadata": {
        "id": "XZuH1ttzfi3X"
      }
    },
    {
      "cell_type": "markdown",
      "source": [
        "***1. What is the difference between a function and a method in Python?***\n",
        "\n",
        "-> In Python, functions and methods are both blocks of reusable code, but they have a key difference in how they are used and associated with data:\n",
        "\n",
        "Functions:\n",
        "\n",
        "a.   A function is a block of code that performs a specific task\n",
        "\n",
        "b.   It is defined using the def keyword\n",
        "\n",
        "c.   It can be called independently and is not tied to any object\n",
        "\n",
        "e.g.\n",
        "\n",
        "def greet(name):\n",
        "\n",
        "    return f\"Hello, {name}!\"\n",
        "\n",
        "print(greet(\"Mohima\"))\n",
        "\n",
        "-> Hello, Mohima!\n",
        "\n",
        "Method:\n",
        "\n",
        "\n",
        "\n",
        "a.   A method is a function that belongs to an object (i.e., it is defined inside a class)\n",
        "b.   It is called using the dot . notation and usually acts on the data within the object\n",
        "c. The first parameter is typically self, referring to the instance\n",
        "\n",
        "e.g.\n",
        "\n",
        "class Greeter:\n",
        "\n",
        "    def greet(self, name):\n",
        "        return f\"Hello, {name}!\"\n",
        "\n",
        "g = Greeter()\n",
        "\n",
        "print(g.greet(\"Mohima\"))\n",
        "\n",
        "-> Hello, Mohima!\n",
        "\n",
        "\n",
        "\n"
      ],
      "metadata": {
        "id": "FhiKMuetfoRL"
      }
    },
    {
      "cell_type": "markdown",
      "source": [
        "***2. Explain the concept of function arguments and parameters in Python.***\n",
        "\n",
        "a.   Parameters\n",
        "\n",
        "*   Parameters are variables listed inside the parentheses in the function definition.\n",
        "*   They define what kind of inputs the function can accept.\n",
        "\n",
        "e.g.\n",
        "\n",
        "def add(a, b):  # a and b are parameters\n",
        "\n",
        "    return a + b\n",
        "\n",
        "\n",
        "2.   Arguments\n",
        "\n",
        "\n",
        "\n",
        "*   Arguments are the actual values passed to the function when calling it.\n",
        "*   These are assigned to the parameters when the function is invoked.\n",
        "\n",
        "\n",
        "e.g.\n",
        "\n",
        "result = add(5, 3)  # 5 and 3 are arguments\n",
        "\n",
        "print(result)\n",
        "\n",
        "\n",
        "\n"
      ],
      "metadata": {
        "id": "f9F0ZyDIisEk"
      }
    },
    {
      "cell_type": "markdown",
      "source": [
        "3. ***What are the different ways to define and call a function in Python?***\n",
        "\n",
        "a.   Standard Function Definition:\n",
        "\n",
        "*   Definition:\n",
        "\n",
        "def greet(name):\n",
        "\n",
        "    return f\"Hello, {name}!\"\n",
        "*   Call Function:\n",
        "\n",
        "print(greet(\"Mohima\"))\n",
        "\n",
        "b. Function with Default Parameters\n",
        "\n",
        "\n",
        "\n",
        "*   Definition:\n",
        "\n",
        "def greet(name=\"Guest\"):\n",
        "\n",
        "    return f\"Hello, {name}!\"\n",
        "*   Call Function:\n",
        "\n",
        "greet()            # Uses default value\n",
        "\n",
        "greet(\"David\")     # Overrides default\n",
        "\n",
        "c. Function with Positional Arguments\n",
        "\n",
        "\n",
        "\n",
        "*   Definition:\n",
        "\n",
        "def add(a, b):\n",
        "\n",
        "    return a + b\n",
        "*   Call Function:\n",
        "\n",
        "add(2, 3)  # a = 2, b = 3\n",
        "\n",
        "d. Function with Keyword Arguments\n",
        "\n",
        "\n",
        "\n",
        "*   Definition:\n",
        "\n",
        "def introduce(name, age):\n",
        "\n",
        "    return f\"{name} is {age} years old\"\n",
        "*   Call Function:\n",
        "\n",
        "introduce(age=22, name=\"Mohima\")\n",
        "\n",
        "e. Function with Variable-Length Arguments\n",
        "\n",
        "\n",
        "\n",
        "*   `*args` (for multiple positional arguments):\n",
        "\n",
        "def total(*numbers):\n",
        "\n",
        "    return sum(numbers)\n",
        "\n",
        "\n",
        "*   Call Function:\n",
        "\n",
        "total(1, 2, 3, 4)  # returns 10\n",
        "\n",
        "\n",
        "*   Using `**kwargs` (for multiple keyword arguments):\n",
        "\n",
        "def display_info(**info):\n",
        "\n",
        "    for key, value in info.items():\n",
        "        print(f\"{key}: {value}\")\n",
        "\n",
        "\n",
        "\n",
        "*   Call Function:\n",
        "\n",
        "display_info(name=\"Mohima\", age=22, city=\"Kolkata\")\n",
        "\n",
        "f. Lambda (Anonymous) Functions\n",
        "\n",
        "\n",
        "\n",
        "*   Definition:\n",
        "\n",
        "square = lambda x: x ** 2\n",
        "\n",
        "*   Call Function:\n",
        "\n",
        "square(5) # output 25\n",
        "\n",
        "g. Nested Functions (Functions inside Functions)\n",
        "\n",
        "\n",
        "\n",
        "*   Definition:\n",
        "\n",
        "def outer():\n",
        "\n",
        "    def inner():\n",
        "\n",
        "        return \"Inner function\"\n",
        "    return inner()\n",
        "*   Call Function:\n",
        "\n",
        "outer()\n",
        "\n",
        "h. Function as Argument to Another Function\n",
        "\n",
        "\n",
        "\n",
        "*   Definition & Call:\n",
        "\n",
        "def shout(text):\n",
        "\n",
        "  return text.upper()\n",
        "\n",
        "def speak(func, message):\n",
        "\n",
        "  return func(message)\n",
        "\n",
        "speak(shout, \"hello\") #output \"HELLO\"\n",
        "\n",
        "\n",
        "\n",
        "\n",
        "\n",
        "\n",
        "\n",
        "\n",
        "\n",
        "\n",
        "\n",
        "\n",
        "\n",
        "\n",
        "\n",
        "\n",
        "\n",
        "\n",
        "\n",
        "\n",
        "\n",
        "\n",
        "\n",
        "\n",
        "\n",
        "\n",
        "\n",
        "\n",
        "\n"
      ],
      "metadata": {
        "id": "v5MDQIZmkAsb"
      }
    },
    {
      "cell_type": "markdown",
      "source": [
        "4.  ***What is the purpose of the `return` statement in a Python function?***\n",
        "\n",
        "    -> The return statement in Python ends a function and sends a value back to the caller. It is used when we want the function to give back a result after performing some task.\n",
        "\n",
        "\n",
        "a. Key Purposes of return:\n",
        "\n",
        "*   Return a result to the caller\n",
        "*   Exit the function immediately\n",
        "*   Make a function's output reusable in other code\n",
        "\n",
        "e.g.\n",
        "\n",
        "def add(a,b):\n",
        "\n",
        "return a+b\n",
        "\n",
        "result = add(3,5)\n",
        "\n",
        "print(result) # output 8\n",
        "\n",
        "Here, add() computes a value and return sends it back to result.\n",
        "\n",
        "We can return:\n",
        "\n",
        "\n",
        "*   A single value: return 5\n",
        "*   Multiple values: return x, y (returns a tuple)\n",
        "*   A list, dict, or custom object\n",
        "*   Or nothing at all (implicit return None)\n",
        "\n",
        "\n",
        "\n",
        "\n",
        "\n"
      ],
      "metadata": {
        "id": "Q5r3NiVqsPBu"
      }
    },
    {
      "cell_type": "markdown",
      "source": [
        "*** 5. What are iterators in Python and how do they differ from iterables?***\n",
        "\n",
        "       -> Both iterators and iterables are part of Python's iteration protocol, which is how for loops, generators, and many built-in functions work. But they are not the same.\n",
        "\n",
        "a. Iterables:\n",
        "\n",
        "An iterable is any object that can return an iterator using the built-in iter() function.\n",
        "\n",
        "Common Iterable Examples: List, tuples, string, dictionaries.\n",
        "\n",
        "e.g. my_list = [1, 2, 3]\n",
        "\n",
        "it = iter(my_list) # This works — list is iterable\n",
        "\n",
        "b. Iterator:\n",
        "\n",
        "An iterator is an object with:\n",
        "\n",
        "* a __next__() method (or can use next())\n",
        "* an __iter__() method that returns itself\n",
        "\n",
        "Iterators produce the next item in a sequence each time we call next()\n",
        "\n",
        "\n",
        "e.g.\n",
        "\n",
        "my_list = [1, 2, 3]\n",
        "\n",
        "it = iter(my_list)     # it is now an iterator\n",
        "\n",
        "print(next(it))  # 1\n",
        "\n",
        "print(next(it))  # 2\n",
        "\n",
        "print(next(it))  # 3\n",
        "\n",
        "After the last item, next(it) raises Stop Iteration.\n",
        "\n",
        "\n"
      ],
      "metadata": {
        "id": "GnHSTCq7uxKl"
      }
    },
    {
      "cell_type": "markdown",
      "source": [
        "6. Explain the concept of generators in Python and how they are defined.\n",
        "\n",
        "   -> A generator is a special type of iterator that yields items one at a time using the yield keyword instead of return. Generators are memory-efficient and ideal for working with large datasets or infinite sequences.\n",
        "\n",
        "\n",
        "   Features of Generators:\n",
        "   \n",
        "\n",
        "*   Created using yield\tnot return\n",
        "*   Returns an iterator\tthat can be looped\n",
        "*   Maintains internal state, resumes from where it left off\n",
        "*   Memory efficient, no need to store the entire data in memory\n",
        "\n",
        "\n",
        "   How to Define a Generator Function:\n",
        "\n",
        "def count_up_to(n):\n",
        "\n",
        "  count = 1\n",
        "\n",
        "  while count <= n:\n",
        "\n",
        "    yield count\n",
        "    count += 1\n",
        "\n",
        "result = count_up_to(5)\n",
        "\n",
        "for num in result:\n",
        "\n",
        "  print(num)\n",
        "\n",
        "Differences Between return and yield:\n",
        "\n",
        "\n",
        "*   Return exits the function completely, yield pauses the function\n",
        "*   Return, returns a signle value, yield provide multiple values over time\n",
        "*   Return can't resume, yield can resume from last yield\n",
        "\n",
        "Reasons to use Generators?\n",
        "\n",
        "* Efficiency: No need to store all values in memory\n",
        "\n",
        "* Lazy Evaluation: Values are computed only when needed\n",
        "\n",
        "* Clean Code: Great for pipelines, large file processing, or streaming data\n",
        "\n",
        "\n",
        "\n",
        "\n",
        "\n"
      ],
      "metadata": {
        "id": "Yl5M14yHD0eo"
      }
    },
    {
      "cell_type": "markdown",
      "source": [
        "7.  What are the advantages of using generators over regular functions?\n",
        "\n",
        "    -> Generators provide several key benefits, especially when working with large datasets, streams, or infinite sequences.\n",
        "\n",
        "    a. Memory Efficiency:\n",
        "\n",
        "\n",
        "\n",
        "*   Regular functions may return large lists, using a lot of memory.\n",
        "*   Generators yield one item at a time without storing the entire result in memory.\n",
        "\n",
        "e.g.\n",
        "\n",
        "def numbers_list(n):\n",
        "\n",
        "    return [i for i in range(n)]  # loads all numbers in memory\n",
        "\n",
        "def numbers_gen(n):\n",
        "\n",
        "    for i in range(n):\n",
        "        yield i  # yields one number at a time\n",
        "\n",
        "Ideal when handling millions of records or files.\n",
        "\n",
        "b. Lazy Evaluation:\n",
        "\n",
        "* Generators produce values only when needed, not all at once.\n",
        "* This allows faster startup time and the ability to stop early.\n",
        "\n",
        "e.g.\n",
        "\n",
        "def infinite_numbers():\n",
        "\n",
        "    i = 0\n",
        "    while True:\n",
        "        yield i\n",
        "        i += 1\n",
        "\n",
        "Useful in scenarios like,\n",
        "\n",
        "* Reading large log files line by line\n",
        "* Live data streaming\n",
        "* Processing infinite sequences\n",
        "\n",
        "c. Improved Performance:\n",
        "\n",
        "*  Generators reduce the overhead of function calls and memory allocation.\n",
        "* They're especially faster than list-returning functions in loops or pipelines.\n",
        "\n",
        "d. State Retention Without Extra Code:\n",
        "\n",
        "* Generators automatically remember their last execution state (like where they paused).\n",
        "\n",
        "* No need to manage external variables or indices.\n",
        "\n",
        "d. Cleaner Syntax for Iteration\n",
        "\n",
        "* Easier to use and read than classes implementing __iter__() and __next__().\n",
        "\n",
        "e.g.\n",
        "\n",
        "def even_numbers(n):\n",
        "\n",
        "    for i in range(n):\n",
        "        if i % 2 == 0:\n",
        "            yield i\n",
        "\n",
        "\n",
        "\n",
        "\n",
        "\n",
        "\n",
        "\n",
        "\n",
        "\n",
        "\n"
      ],
      "metadata": {
        "id": "f2096W-gJn1a"
      }
    },
    {
      "cell_type": "markdown",
      "source": [
        "8.  What is a lambda function in Python and when is it typically used?\n",
        "\n",
        "    -> A lambda function in Python is a small anonymous function defined using the lambda keyword instead of def.\n",
        "\n",
        "    It's used to create simple functions in a single line, typically when a full function definition would be unnecessary or too verbose.\n",
        "\n",
        "    Syntax- Lambda arguments : expression\n",
        "\n",
        "    * No def, return, or function name\n",
        "    * Can have any number of arguments\n",
        "    * Only one expression, which is implicitly returned\n",
        "\n",
        "    e.g.\n",
        "\n",
        "    square = lambda x : x ** 2\n",
        "    print(square(5)) # output 25\n",
        "\n",
        "    Lambda functions are best used for short, throwaway functions, especially as arguments to higher-order functions (like map, filter, or sorted).\n",
        "\n",
        "    "
      ],
      "metadata": {
        "id": "h9AN1QFgNrFw"
      }
    },
    {
      "cell_type": "markdown",
      "source": [
        "***9. Explain the purpose and usage of the `map()` function in Python.***\n",
        "\n",
        "  -> The map() function is a built-in Python function that applies another function to every item in an iterable (like a list or tuple) and returns a map object (an iterator) containing the results.\n",
        "\n",
        "  Purpose of map(): To transform each item in an iterable without using an explicit loop.\n",
        "\n",
        "      Syntax: map(function, iterable)\n",
        "\n",
        "  * function: A function to apply (can be a built-in function, user-defined function, or lambda).\n",
        "\n",
        "  * iterable: One or more iterables (lists, tuples, etc.).\n",
        "\n",
        "It returns a map object, which can be converted to a list or another collection.\n",
        "\n",
        "Usage:\n",
        "\n",
        "def sq(x):\n",
        "\n",
        "  return x ** 2\n",
        "\n",
        "numbers = [1,2,3,5]\n",
        "\n",
        "list(map(sq, numbers)) # output [1,4,9,25]\n",
        "\n",
        "\n",
        "\n",
        "\n",
        "Using map() with Multiple Iterables:\n",
        "\n",
        "a = [1,2,3]\n",
        "b = [4,5,6]\n",
        "\n",
        "list(map(lambda x, y : x + y, a,b)) # output [5,7,9]\n",
        "\n",
        "\n",
        "\n",
        "\n"
      ],
      "metadata": {
        "id": "bganbQuAPBew"
      }
    },
    {
      "cell_type": "markdown",
      "source": [
        "10. What is the difference between `map()`, `reduce()`, and `filter()` functions in Python?\n",
        "\n",
        "    ->  In Python, map(), reduce(), and filter() are built-in functions that support functional programming by allowing to process data collections (like lists, tuples, etc.) in a concise and readable way.\n",
        "\n",
        "    a. map(function, iterable)\n",
        "\n",
        "    Purpose: Applies a given function to each item in an iterable and returns a map object (an iterator).\n",
        "\n",
        "    Output: Transformed items.\n",
        "\n",
        "    e.g. numbers = [1, 2, 3, 4]\n",
        "\n",
        "    squared = map(lambda x: x**2, numbers)\n",
        "\n",
        "    print(list(squared))  # Output: [1, 4, 9, 16]\n",
        "\n",
        "    b. filter(function, iterable)\n",
        "    \n",
        "    Purpose: Filters the iterable by applying a function that returns True or False.\n",
        "\n",
        "    Output: Items where the function returns True.\n",
        "\n",
        "    e.g. numbers = [1,2,3,4,5]\n",
        "\n",
        "    is_even = list(filter(lambda x : x % 2 == 0, numbers))\n",
        "\n",
        "    print(is_even) # output [2,4]\n",
        "\n",
        "    c. reduce(function, iterable)\n",
        "\n",
        "    Purpose: Applies a function cumulatively to the items in an iterable, reducing them to a single value.\n",
        "\n",
        "    Output: A single result.\n",
        "\n",
        "    Note: You need to import reduce from the functools module.\n",
        "\n",
        "    e.g.\n",
        "\n",
        "    from func tools import reduce\n",
        "\n",
        "    numbers = [1,2,3,4,5]\n",
        "\n",
        "    product = (reduce(lambda x , y : x * y, numbers))\n",
        "\n",
        "    print(product) # output 120"
      ],
      "metadata": {
        "id": "QN_N37xwTbnu"
      }
    },
    {
      "cell_type": "markdown",
      "source": [
        "11.  Using pen & Paper write the internal mechanism for sum operation using  reduce function on this given\n",
        "list:[47,11,42,13];\n",
        "\n",
        "[link text](https://drive.google.com/file/d/190UZT4D_PW2QuIwYX8wvaepKGn7PMKlD/view?usp=sharing)"
      ],
      "metadata": {
        "id": "OCpsfmoUnEvZ"
      }
    },
    {
      "cell_type": "code",
      "source": [
        "sum_list = [47,11,42,13]\n",
        "\n",
        "from functools import reduce\n",
        "\n",
        "result = reduce(lambda x, y : x + y, sum_list)\n",
        "\n",
        "print(result)"
      ],
      "metadata": {
        "colab": {
          "base_uri": "https://localhost:8080/"
        },
        "id": "Xj33T660npgp",
        "outputId": "e93f9d18-ea70-4a94-b685-146759536b51"
      },
      "execution_count": 5,
      "outputs": [
        {
          "output_type": "stream",
          "name": "stdout",
          "text": [
            "113\n"
          ]
        }
      ]
    },
    {
      "cell_type": "markdown",
      "source": [
        "Practical Questions"
      ],
      "metadata": {
        "id": "pMt5W1GsB3sR"
      }
    },
    {
      "cell_type": "code",
      "source": [
        "#1 Write a Python function that takes a list of numbers as input and returns the sum of all even numbers in the list.\n",
        "\n",
        "numbers = [1,2,3,4]\n",
        "\n",
        "from functools import reduce\n",
        "sum_even_numbers = reduce(lambda x, y : x + y, filter(lambda x : x % 2 == 0, numbers))\n",
        "\n",
        "print(sum_even_numbers)"
      ],
      "metadata": {
        "colab": {
          "base_uri": "https://localhost:8080/"
        },
        "id": "pDUGSdnDGxlD",
        "outputId": "3bc272ba-c5d7-4ff6-fe44-c7fb31fa58f4"
      },
      "execution_count": 4,
      "outputs": [
        {
          "output_type": "stream",
          "name": "stdout",
          "text": [
            "6\n"
          ]
        }
      ]
    },
    {
      "cell_type": "code",
      "source": [
        "#2 Create a Python function that accepts a string and returns the reverse of that string\n",
        "\n",
        "def str(Mohima):\n",
        "  return Mohima[::-1]\n",
        "\n",
        "print(str(\"Mohima\"))"
      ],
      "metadata": {
        "colab": {
          "base_uri": "https://localhost:8080/"
        },
        "id": "aTzA4gGfIBky",
        "outputId": "c4f5151b-8833-41b4-d045-a679eb4e08c3"
      },
      "execution_count": 7,
      "outputs": [
        {
          "output_type": "stream",
          "name": "stdout",
          "text": [
            "amihoM\n"
          ]
        }
      ]
    },
    {
      "cell_type": "code",
      "source": [
        "#3  Implement a Python function that takes a list of integers and returns a new list containing the squares of each number.\n",
        "\n",
        "List_Integers = [1,2,3,4]\n",
        "\n",
        "square_numbers = list(map(lambda x : x ** 2, List_Integers))\n",
        "\n",
        "print(square_numbers)"
      ],
      "metadata": {
        "colab": {
          "base_uri": "https://localhost:8080/"
        },
        "id": "s48Jucy5InKG",
        "outputId": "97061565-a993-4acf-b5ed-8b1dc6c2d383"
      },
      "execution_count": 8,
      "outputs": [
        {
          "output_type": "stream",
          "name": "stdout",
          "text": [
            "[1, 4, 9, 16]\n"
          ]
        }
      ]
    },
    {
      "cell_type": "code",
      "source": [
        "#4 Write a Python function that checks if a given number is prime or not from 1 to 200\n",
        "\n",
        "def is_prime(n):\n",
        "  if n < 2:\n",
        "    return False\n",
        "  for i in range (2, int(n ** 0.5) + 1):\n",
        "    if n % i == 0:\n",
        "      return False\n",
        "  return True\n",
        "\n",
        "for num in range (1, 201):\n",
        "  if is_prime(num):\n",
        "    print(f\"{num} is a prime number\")"
      ],
      "metadata": {
        "colab": {
          "base_uri": "https://localhost:8080/"
        },
        "id": "QbdEG6ZfJn-y",
        "outputId": "b378df72-21dd-47c4-cf8e-f648076941d3"
      },
      "execution_count": 16,
      "outputs": [
        {
          "output_type": "stream",
          "name": "stdout",
          "text": [
            "2 is a prime number\n",
            "3 is a prime number\n",
            "5 is a prime number\n",
            "7 is a prime number\n",
            "11 is a prime number\n",
            "13 is a prime number\n",
            "17 is a prime number\n",
            "19 is a prime number\n",
            "23 is a prime number\n",
            "29 is a prime number\n",
            "31 is a prime number\n",
            "37 is a prime number\n",
            "41 is a prime number\n",
            "43 is a prime number\n",
            "47 is a prime number\n",
            "53 is a prime number\n",
            "59 is a prime number\n",
            "61 is a prime number\n",
            "67 is a prime number\n",
            "71 is a prime number\n",
            "73 is a prime number\n",
            "79 is a prime number\n",
            "83 is a prime number\n",
            "89 is a prime number\n",
            "97 is a prime number\n",
            "101 is a prime number\n",
            "103 is a prime number\n",
            "107 is a prime number\n",
            "109 is a prime number\n",
            "113 is a prime number\n",
            "127 is a prime number\n",
            "131 is a prime number\n",
            "137 is a prime number\n",
            "139 is a prime number\n",
            "149 is a prime number\n",
            "151 is a prime number\n",
            "157 is a prime number\n",
            "163 is a prime number\n",
            "167 is a prime number\n",
            "173 is a prime number\n",
            "179 is a prime number\n",
            "181 is a prime number\n",
            "191 is a prime number\n",
            "193 is a prime number\n",
            "197 is a prime number\n",
            "199 is a prime number\n"
          ]
        }
      ]
    },
    {
      "cell_type": "code",
      "source": [
        "#5  Create an iterator class in Python that generates the Fibonacci sequence up to a specified number of terms.\n",
        "\n",
        "class Fibonacci:\n",
        "    def __init__(self, n):\n",
        "        self.n = n\n",
        "        self.a, self.b = 0, 1\n",
        "        self.count = 0\n",
        "\n",
        "    def __iter__(self):\n",
        "        return self\n",
        "\n",
        "    def __next__(self):\n",
        "        if self.count >= self.n:\n",
        "            raise StopIteration\n",
        "        self.a, self.b = self.b, self.a + self.b\n",
        "        self.count += 1\n",
        "        return self.a\n",
        "\n",
        "\n",
        "for num in Fibonacci(10):\n",
        "    print(num)"
      ],
      "metadata": {
        "colab": {
          "base_uri": "https://localhost:8080/"
        },
        "id": "iUz7Cjj1L0Wm",
        "outputId": "f9d5517b-9943-4166-ba6e-a2bc9a801be3"
      },
      "execution_count": 17,
      "outputs": [
        {
          "output_type": "stream",
          "name": "stdout",
          "text": [
            "1\n",
            "1\n",
            "2\n",
            "3\n",
            "5\n",
            "8\n",
            "13\n",
            "21\n",
            "34\n",
            "55\n"
          ]
        }
      ]
    },
    {
      "cell_type": "code",
      "source": [
        "#6  Write a generator function in Python that yields the powers of 2 up to a given exponent.\n",
        "\n",
        "def power_of_two(n):\n",
        "  power = 0\n",
        "  while power <= n:\n",
        "    yield 2 ** power\n",
        "    power += 1\n",
        "\n",
        "for num in power_of_two(5):\n",
        "  print(num)"
      ],
      "metadata": {
        "colab": {
          "base_uri": "https://localhost:8080/"
        },
        "id": "HU26UoPaRUoG",
        "outputId": "994ceaf1-00fa-4936-9fda-9a04ad6c8ca1"
      },
      "execution_count": 18,
      "outputs": [
        {
          "output_type": "stream",
          "name": "stdout",
          "text": [
            "1\n",
            "2\n",
            "4\n",
            "8\n",
            "16\n",
            "32\n"
          ]
        }
      ]
    },
    {
      "cell_type": "code",
      "source": [
        "#7  Implement a generator function that reads a file line by line and yields each line as a string\n",
        "\n",
        "# Creating a sample file with some content\n",
        "\n",
        "with open (\"sample.txt\", \"w\") as f:\n",
        "  f.write(\"I'm learning Python\\n\")\n",
        "  f.write(\"Python is fun\\n\")\n",
        "  f.write(\"Python generators are powerful\\n\")\n",
        "  f.write(\"I want to excel in python\\n\")\n",
        "\n",
        "\n",
        "\n",
        "def read_files(filepath):\n",
        "  with open (filepath, \"r\") as file:\n",
        "    for line in file:\n",
        "      yield line.strip()\n",
        "\n",
        "for line in read_files(\"sample.txt\"):\n",
        "  print(line)\n"
      ],
      "metadata": {
        "colab": {
          "base_uri": "https://localhost:8080/"
        },
        "id": "5Q828yxmTOvm",
        "outputId": "f8cadad9-869b-42c9-80e9-b3de68fa3054"
      },
      "execution_count": 23,
      "outputs": [
        {
          "output_type": "stream",
          "name": "stdout",
          "text": [
            "I'm learning Python\n",
            "Python is fun\n",
            "Python generators are powerful\n",
            "I want to excel in python\n"
          ]
        }
      ]
    },
    {
      "cell_type": "code",
      "source": [
        "#8  Use a lambda function in Python to sort a list of tuples based on the second element of each tuple.\n",
        "\n",
        "list_tuple = [(1,5), (2,4), (4,7), (8,2)]\n",
        "\n",
        "sorted_list = sorted(list_tuple, key = lambda x : x[1])\n",
        "\n",
        "sorted_list"
      ],
      "metadata": {
        "colab": {
          "base_uri": "https://localhost:8080/"
        },
        "id": "Tpo9n98PXSSp",
        "outputId": "99a72a36-5a8d-4b29-f8b8-e9c5620191ea"
      },
      "execution_count": 24,
      "outputs": [
        {
          "output_type": "execute_result",
          "data": {
            "text/plain": [
              "[(8, 2), (2, 4), (1, 5), (4, 7)]"
            ]
          },
          "metadata": {},
          "execution_count": 24
        }
      ]
    },
    {
      "cell_type": "code",
      "source": [
        "#9  Write a Python program that uses `map()` to convert a list of temperatures from Celsius to Fahrenheit\n",
        "\n",
        "celsius_temp = [0, 12, 32, 35]\n",
        "\n",
        "fahrenheit_temp = list(map(lambda c : (c * 9/5) + 32, celsius_temp))\n",
        "\n",
        "fahrenheit_temp"
      ],
      "metadata": {
        "colab": {
          "base_uri": "https://localhost:8080/"
        },
        "id": "UfHnGyvvZ4wy",
        "outputId": "1839ace1-194d-4638-ffac-3a8769f5c2f1"
      },
      "execution_count": 25,
      "outputs": [
        {
          "output_type": "execute_result",
          "data": {
            "text/plain": [
              "[32.0, 53.6, 89.6, 95.0]"
            ]
          },
          "metadata": {},
          "execution_count": 25
        }
      ]
    },
    {
      "cell_type": "code",
      "source": [
        "#10 Create a Python program that uses `filter()` to remove all the vowels from a given string\n",
        "\n",
        "String_1 = \"Mohima is learning Python\"\n",
        "\n",
        "remove_vowels = \" \".join(list(filter(lambda x : x not in \"aeiouAEIOU\", String_1)))\n",
        "\n",
        "remove_vowels"
      ],
      "metadata": {
        "colab": {
          "base_uri": "https://localhost:8080/",
          "height": 35
        },
        "id": "kHuZhuW8apJO",
        "outputId": "38394ae9-cd69-4cb1-9417-537fd70746be"
      },
      "execution_count": 29,
      "outputs": [
        {
          "output_type": "execute_result",
          "data": {
            "text/plain": [
              "'M h m   s   l r n n g   P y t h n'"
            ],
            "application/vnd.google.colaboratory.intrinsic+json": {
              "type": "string"
            }
          },
          "metadata": {},
          "execution_count": 29
        }
      ]
    },
    {
      "cell_type": "code",
      "source": [
        "#11 Write a Python program, which returns a list with 2-tuples. Each tuple consists of the order number and the\n",
        "#product of the price per item and the quantity. The product should be increased by 10,- € if the value of the\n",
        "#order is smaller than 100,00 €.\n",
        "\n",
        "#Write a Python program using lambda and map.\n",
        "\n",
        "orders = [[34587, \"Learning Python, Mark Lutz\", 4, 40.95],\n",
        "    [98762, \"Programming Python, Mark Lutz\", 5, 56.80],\n",
        "    [77226, \"Head First Python, Paul Barry\", 3, 32.95],\n",
        "    [88112, \"Einführung in Python3, Bernd Klein\", 3, 24.99]]\n",
        "\n",
        "# Use map() and lambda to calculate final prices\n",
        "\n",
        "final_price = list(map(lambda order : (order[0], round(order[2] * order[3] + (10 if order[2] * order [3] < 100 else 0), 2)),orders))\n",
        "\n",
        "final_price"
      ],
      "metadata": {
        "colab": {
          "base_uri": "https://localhost:8080/"
        },
        "id": "b_q1I7g_bLbT",
        "outputId": "8c15f1ee-a9bb-43e9-c14f-021dc272822d"
      },
      "execution_count": 30,
      "outputs": [
        {
          "output_type": "execute_result",
          "data": {
            "text/plain": [
              "[(34587, 163.8), (98762, 284.0), (77226, 108.85), (88112, 84.97)]"
            ]
          },
          "metadata": {},
          "execution_count": 30
        }
      ]
    }
  ]
}